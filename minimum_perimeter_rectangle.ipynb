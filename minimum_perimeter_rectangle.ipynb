{
 "cells": [
  {
   "cell_type": "code",
   "execution_count": 57,
   "metadata": {
    "collapsed": true
   },
   "outputs": [],
   "source": [
    "#MinPerimeterRectangle\n",
    "# 1. find factors of the value of area given as input\n",
    "# 2. according to the current context we have to include both 1 and the number\n",
    "# 3. define perimeter function\n",
    "# 4. substitute the values in the equation\n",
    "\n",
    "def solution(N):\n",
    "    from math import sqrt\n",
    "    res=[]\n",
    "    \n",
    "    if N!=0:\n",
    "        for i in range(int(sqrt(N)), 0, -1):\n",
    "            if N%i==0:\n",
    "                if (N/i)*i==N:\n",
    "                    l=N/i\n",
    "                    b=i\n",
    "                    p=2*(l+b)\n",
    "                    res.append(p)\n",
    "\n",
    "    else:\n",
    "        return 0\n",
    "    return int(min(res))"
   ]
  },
  {
   "cell_type": "code",
   "execution_count": 58,
   "metadata": {},
   "outputs": [
    {
     "data": {
      "text/plain": [
       "1964903308"
      ]
     },
     "execution_count": 58,
     "metadata": {},
     "output_type": "execute_result"
    }
   ],
   "source": [
    "solution(982451653)"
   ]
  },
  {
   "cell_type": "code",
   "execution_count": 26,
   "metadata": {},
   "outputs": [
    {
     "data": {
      "text/plain": [
       "0"
      ]
     },
     "execution_count": 26,
     "metadata": {},
     "output_type": "execute_result"
    }
   ],
   "source": [
    "1000000000%10"
   ]
  },
  {
   "cell_type": "code",
   "execution_count": 50,
   "metadata": {},
   "outputs": [
    {
     "name": "stdout",
     "output_type": "stream",
     "text": [
      "5\n",
      "4\n",
      "3\n",
      "2\n",
      "1\n"
     ]
    }
   ],
   "source": [
    "from math import sqrt\n",
    "for i in range(int(sqrt(30)), 0, -1):\n",
    "    print(i)"
   ]
  }
 ],
 "metadata": {
  "kernelspec": {
   "display_name": "Python [conda root]",
   "language": "python",
   "name": "conda-root-py"
  },
  "language_info": {
   "codemirror_mode": {
    "name": "ipython",
    "version": 3
   },
   "file_extension": ".py",
   "mimetype": "text/x-python",
   "name": "python",
   "nbconvert_exporter": "python",
   "pygments_lexer": "ipython3",
   "version": "3.5.4"
  }
 },
 "nbformat": 4,
 "nbformat_minor": 2
}
