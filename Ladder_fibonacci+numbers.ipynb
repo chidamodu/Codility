{
 "cells": [
  {
   "cell_type": "code",
   "execution_count": 2,
   "metadata": {},
   "outputs": [
    {
     "data": {
      "text/plain": [
       "5"
      ]
     },
     "execution_count": 2,
     "metadata": {},
     "output_type": "execute_result"
    }
   ],
   "source": [
    "5%2**4"
   ]
  },
  {
   "cell_type": "code",
   "execution_count": 4,
   "metadata": {},
   "outputs": [
    {
     "data": {
      "text/plain": [
       "True"
      ]
     },
     "execution_count": 4,
     "metadata": {},
     "output_type": "execute_result"
    }
   ],
   "source": [
    "[2,1,0,1]==[2,1,0,1]"
   ]
  },
  {
   "cell_type": "code",
   "execution_count": 5,
   "metadata": {},
   "outputs": [
    {
     "data": {
      "text/plain": [
       "[0, 0, 0, 0]"
      ]
     },
     "execution_count": 5,
     "metadata": {},
     "output_type": "execute_result"
    }
   ],
   "source": [
    "[0]*4"
   ]
  },
  {
   "cell_type": "code",
   "execution_count": 8,
   "metadata": {
    "collapsed": true
   },
   "outputs": [],
   "source": [
    "B=[3,2,4,3,1]\n",
    "modLimit = (1 << max(B)) - 1\n"
   ]
  },
  {
   "cell_type": "code",
   "execution_count": 9,
   "metadata": {},
   "outputs": [
    {
     "data": {
      "text/plain": [
       "15"
      ]
     },
     "execution_count": 9,
     "metadata": {},
     "output_type": "execute_result"
    }
   ],
   "source": [
    "modLimit"
   ]
  },
  {
   "cell_type": "code",
   "execution_count": 10,
   "metadata": {},
   "outputs": [
    {
     "data": {
      "text/plain": [
       "16"
      ]
     },
     "execution_count": 10,
     "metadata": {},
     "output_type": "execute_result"
    }
   ],
   "source": [
    "1<<4"
   ]
  },
  {
   "cell_type": "code",
   "execution_count": 17,
   "metadata": {},
   "outputs": [
    {
     "name": "stdout",
     "output_type": "stream",
     "text": [
      "1\n",
      "2\n",
      "3\n",
      "5\n",
      "8\n"
     ]
    },
    {
     "data": {
      "text/plain": [
       "[0, 1, 1, 2, 3, 5, 8]"
      ]
     },
     "execution_count": 17,
     "metadata": {},
     "output_type": "execute_result"
    }
   ],
   "source": [
    "A=[4,4,5,5,1]\n",
    "limit    = max(A)                 # The possible largest N rungs\n",
    "result   = [0] * len(A)           # The result for each query\n",
    "modLimit = (1 << max(B)) - 1      # To avoid big interger in fibs\n",
    "# Compute the Fibonacci numbers for later use\n",
    "fib    = [0] * (limit+2)\n",
    "fib[1] = 1\n",
    "for i in range(2, limit + 2):\n",
    "    fib[i] = (fib[i - 1] + fib[i - 2]) & modLimit\n",
    "    print((fib[i - 1] + fib[i - 2]) & modLimit)\n",
    "fib\n",
    "    \n"
   ]
  },
  {
   "cell_type": "code",
   "execution_count": 38,
   "metadata": {},
   "outputs": [
    {
     "data": {
      "text/plain": [
       "8"
      ]
     },
     "execution_count": 38,
     "metadata": {},
     "output_type": "execute_result"
    }
   ],
   "source": [
    "25000&15"
   ]
  },
  {
   "cell_type": "code",
   "execution_count": 44,
   "metadata": {},
   "outputs": [],
   "source": [
    "This solution works!\n",
    "def solution(A, B):\n",
    "    limit    = max(A)                 # The possible largest N rungs\n",
    "    result   = [0] * len(A)           # The result for each query\n",
    "    modLimit = (1 << max(B)) - 1      # To avoid big interger in fibs\n",
    "    # Compute the Fibonacci numbers for later use\n",
    "    fib    = [0] * (limit+2)\n",
    "    fib[1] = 1\n",
    "    for i in range(2, limit + 2):\n",
    "        fib[i] = (fib[i - 1] + fib[i - 2]) & modLimit\n",
    "    for i in range(len(A)):\n",
    "        # To climb to A[i] rungs, you could either\n",
    "        # come from A[i]-1 with an one-step jump\n",
    "        # OR come from A[i]-2 with a two-step jump\n",
    "        # So from A[i] rungs, the number of different ways of climbing\n",
    "        # to the top of the ladder is the Fibonacci number at position\n",
    "        # A[i] + 1\n",
    "        result[i] = fib[A[i]+1] & ((1<<B[i])-1)\n",
    "    return result"
   ]
  },
  {
   "cell_type": "code",
   "execution_count": 45,
   "metadata": {},
   "outputs": [
    {
     "data": {
      "text/plain": [
       "[5, 1, 8, 0, 1]"
      ]
     },
     "execution_count": 45,
     "metadata": {},
     "output_type": "execute_result"
    }
   ],
   "source": [
    "solution([4,4,5,5,1],[3,2,4,3,1])"
   ]
  }
 ],
 "metadata": {
  "kernelspec": {
   "display_name": "Python [conda root]",
   "language": "python",
   "name": "conda-root-py"
  },
  "language_info": {
   "codemirror_mode": {
    "name": "ipython",
    "version": 3
   },
   "file_extension": ".py",
   "mimetype": "text/x-python",
   "name": "python",
   "nbconvert_exporter": "python",
   "pygments_lexer": "ipython3",
   "version": "3.5.4"
  }
 },
 "nbformat": 4,
 "nbformat_minor": 2
}
