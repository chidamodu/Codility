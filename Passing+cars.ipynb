{
 "cells": [
  {
   "cell_type": "code",
   "execution_count": 47,
   "metadata": {
    "collapsed": true
   },
   "outputs": [],
   "source": [
    "#Clearly, this solution would not scale (try to avoid double loops)\n",
    "def solution(A):\n",
    "    c=0\n",
    "    for i in range(len(A)-1):\n",
    "        for j in range(i+1, len(A)):\n",
    "            print(i, j)\n",
    "            if A[i]==0 and A[j]==1:\n",
    "                c+=1\n",
    "            else:\n",
    "                continue\n",
    "                \n",
    "    return c\n",
    "                \n",
    "            "
   ]
  },
  {
   "cell_type": "code",
   "execution_count": 48,
   "metadata": {
    "scrolled": true
   },
   "outputs": [
    {
     "data": {
      "text/plain": [
       "0"
      ]
     },
     "execution_count": 48,
     "metadata": {},
     "output_type": "execute_result"
    }
   ],
   "source": [
    "solution([])"
   ]
  },
  {
   "cell_type": "code",
   "execution_count": 77,
   "metadata": {
    "collapsed": true
   },
   "outputs": [],
   "source": [
    "# This solution works and it iterates through the array only once\n",
    "# The idea is to traverse the given list once. How would you achieve it: instead of traversing the list for every value and \n",
    "# count, it will be pretty equivalent to add the previous 0 value to the current 1 value.\n",
    "# For example: for a given list like:[0,1,0,0,0,0,0,0,0,0,0,0,0,0,0,0,0,0,0,0,0,0] instead of traversing the list for every\n",
    "# value, I will increment the east_going value by 1 when I find 0 and add it to num_pairs(representing number of pairs)\n",
    "# whenever I get 1. This problem actually assigns the prefix sum algorithm logic. So the logic of the algorithm says that the\n",
    "# sum up until a particular index of an array is the sum of all the values up until that index and including the index. But\n",
    "# the challenge is to figure out that the logic applies to this problem\n",
    "\n",
    "\n",
    "def solution(A):\n",
    "    east_going=0\n",
    "    num_pairs=0\n",
    "    for i in A:\n",
    "        if i==0:\n",
    "            east_going+=1\n",
    "        else:\n",
    "            num_pairs+=east_going\n",
    "\n",
    "    return num_pairs if num_pairs <= 1000000000 else -1\n",
    "        \n",
    "        "
   ]
  },
  {
   "cell_type": "code",
   "execution_count": 78,
   "metadata": {},
   "outputs": [
    {
     "data": {
      "text/plain": [
       "1"
      ]
     },
     "execution_count": 78,
     "metadata": {},
     "output_type": "execute_result"
    }
   ],
   "source": [
    "solution([0,1,0,0,0,0,0,0,0,0,0,0,0,0,0,0,0,0,0,0,0,0])"
   ]
  }
 ],
 "metadata": {
  "kernelspec": {
   "display_name": "Python [conda root]",
   "language": "python",
   "name": "conda-root-py"
  },
  "language_info": {
   "codemirror_mode": {
    "name": "ipython",
    "version": 3
   },
   "file_extension": ".py",
   "mimetype": "text/x-python",
   "name": "python",
   "nbconvert_exporter": "python",
   "pygments_lexer": "ipython3",
   "version": "3.5.4"
  }
 },
 "nbformat": 4,
 "nbformat_minor": 2
}
