{
 "cells": [
  {
   "cell_type": "code",
   "execution_count": 76,
   "metadata": {},
   "outputs": [],
   "source": [
    "def F_upto_A(L):\n",
    "    # Fibonacci sequence up to the\n",
    "    # length of A (include starting and destination position)\n",
    "    F = []\n",
    "    F.append(0)\n",
    "    F.append(1)\n",
    "    while F[-1] <= L:\n",
    "        F.append(F[-1]+F[-2])\n",
    "    return F[1:-1]"
   ]
  },
  {
   "cell_type": "code",
   "execution_count": 77,
   "metadata": {},
   "outputs": [
    {
     "data": {
      "text/plain": [
       "[1, 1, 2, 3, 5, 8]"
      ]
     },
     "execution_count": 77,
     "metadata": {},
     "output_type": "execute_result"
    }
   ],
   "source": [
    "F_upto_A(10)"
   ]
  },
  {
   "cell_type": "code",
   "execution_count": 39,
   "metadata": {},
   "outputs": [
    {
     "name": "stdout",
     "output_type": "stream",
     "text": [
      "[]\n",
      "[3]\n",
      "[2, 3]\n",
      "[1, 2, 3]\n",
      "[1, 2, 3]\n"
     ]
    }
   ],
   "source": [
    "fib=[8, 5, 3, 2, 1]\n",
    "for i in range(2, 7):\n",
    "    print(fib[i-1:1: -1])"
   ]
  },
  {
   "cell_type": "code",
   "execution_count": 65,
   "metadata": {},
   "outputs": [
    {
     "data": {
      "text/plain": [
       "[1, 2, 3]"
      ]
     },
     "execution_count": 65,
     "metadata": {},
     "output_type": "execute_result"
    }
   ],
   "source": [
    "fib=[8, 5, 3, 2, 1]\n",
    "# fib[1:1:-1]\n",
    "# fib[2:1:-1]\n",
    "fib[5:1:-1]\n"
   ]
  },
  {
   "cell_type": "code",
   "execution_count": 90,
   "metadata": {
    "collapsed": true
   },
   "outputs": [],
   "source": [
    "#This solution works!\n",
    "def F_upto_A(L):\n",
    "    # Fibonacci sequence up to the\n",
    "    # length of A (include starting and destination position)\n",
    "    F = []\n",
    "    F.append(0)\n",
    "    F.append(1)\n",
    "    while F[-1] <= L:\n",
    "        F.append(F[-1]+F[-2])\n",
    "    return F[1:-1]\n",
    "def solution(A):\n",
    "    # add starting position to A\n",
    "    A.insert(0, 1)\n",
    "    # add destination position to A\n",
    "    A.append(1)#[1, 0, 0, 0, 1, 1, 0, 1, 0, 0, 0, 0, 1]\n",
    "    n = len(A)#13\n",
    "    # store available fibonacci jumps\n",
    "    F = F_upto_A(n)#[1, 1, 2, 3, 5, 8, 13]\n",
    "    # S mapping A in position\n",
    "    # and storing the minimum step count to every \"1\" position\n",
    "    S = [n] * n\n",
    "#     print(S)\n",
    "    S[0] = 0 #[0, 13, 13, 13, 13, 13, 13, 13, 13, 13, 13, 13, 13]\n",
    "    for i in range(1, n):\n",
    "        # check if the position is 1 in A\n",
    "        if A[i] == 1 :\n",
    "            #loop the Fibonacci sequence\n",
    "            for x in F:\n",
    "                # previous position\n",
    "                prev = i - x\n",
    "                if prev >= 0:\n",
    "                    # (the minimum step count of the previous position)\n",
    "                    # plus\n",
    "                    # (one more step to the existing position)\n",
    "                    # if less than the step count of the existing position\n",
    "                    # update the step count of the existing position\n",
    "                    if S[prev] + 1 < S[i]:\n",
    "                        S[i] = S[prev] + 1\n",
    "                        #print(S)\n",
    "                else:\n",
    "                    print(S)\n",
    "                    break\n",
    "                    \n",
    "    # return the last position of S, if S[-1]==n ,\n",
    "    # means destination can'tbe reached\n",
    "    # S:[0, 13, 13, 13, 13, 1, 13, 2, 13, 13, 13, 13, 3]\n",
    "    return S[-1] if S[-1] < n else -1"
   ]
  },
  {
   "cell_type": "code",
   "execution_count": 91,
   "metadata": {},
   "outputs": [
    {
     "name": "stdout",
     "output_type": "stream",
     "text": [
      "[0, 13, 13, 13, 13, 13, 13, 13, 13, 13, 13, 13, 13]\n",
      "[0, 13, 13, 13, 13, 1, 13, 13, 13, 13, 13, 13, 13]\n",
      "[0, 13, 13, 13, 13, 1, 13, 2, 13, 13, 13, 13, 13]\n",
      "[0, 13, 13, 13, 13, 1, 13, 2, 13, 13, 13, 13, 3]\n"
     ]
    },
    {
     "data": {
      "text/plain": [
       "3"
      ]
     },
     "execution_count": 91,
     "metadata": {},
     "output_type": "execute_result"
    }
   ],
   "source": [
    "solution([0,0,0,1,1,0,1,0,0,0,0])"
   ]
  }
 ],
 "metadata": {
  "kernelspec": {
   "display_name": "Python [conda root]",
   "language": "python",
   "name": "conda-root-py"
  },
  "language_info": {
   "codemirror_mode": {
    "name": "ipython",
    "version": 3
   },
   "file_extension": ".py",
   "mimetype": "text/x-python",
   "name": "python",
   "nbconvert_exporter": "python",
   "pygments_lexer": "ipython3",
   "version": "3.5.4"
  }
 },
 "nbformat": 4,
 "nbformat_minor": 2
}
