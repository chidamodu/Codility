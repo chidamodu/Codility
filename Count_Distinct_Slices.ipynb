{
 "cells": [
  {
   "cell_type": "code",
   "execution_count": 11,
   "metadata": {},
   "outputs": [
    {
     "data": {
      "text/plain": [
       "(3, 2)"
      ]
     },
     "execution_count": 11,
     "metadata": {},
     "output_type": "execute_result"
    }
   ],
   "source": [
    "A=[3,4,5,5,2]\n",
    "A[0:1]\n",
    "A[0], A[-1]"
   ]
  },
  {
   "cell_type": "code",
   "execution_count": 28,
   "metadata": {
    "collapsed": true
   },
   "outputs": [],
   "source": [
    "def solution(M, A):\n",
    "    # write your code in Python 2.7\n",
    "    len_A=len(A)\n",
    "    counter=0\n",
    "    for P in range (0,len_A):\n",
    "        for Q in range (0 , len_A):\n",
    "            PQ=sum(A[P:Q])\n",
    "            if PQ<=M and 0<=P<=Q:\n",
    "                 counter+=1\n",
    "    return counter"
   ]
  },
  {
   "cell_type": "code",
   "execution_count": 29,
   "metadata": {},
   "outputs": [
    {
     "data": {
      "text/plain": [
       "9"
      ]
     },
     "execution_count": 29,
     "metadata": {},
     "output_type": "execute_result"
    }
   ],
   "source": [
    "solution(6, [3,4,5,5,2])"
   ]
  },
  {
   "cell_type": "code",
   "execution_count": 30,
   "metadata": {
    "collapsed": true
   },
   "outputs": [],
   "source": [
    "#This solution works\n",
    "def solution(M, A):\n",
    "    # write your code in Python 2.7\n",
    "    pass;\n",
    "    # M = max(A);\n",
    "    counter = [0]*(1+M);\n",
    "    N = len(A);\n",
    "    back = 0;\n",
    "    counter[A[0]] = 1;\n",
    "    result = 1;\n",
    "    for front in range(1, N):\n",
    "        # print counter;\n",
    "        if counter[A[front]] != 0:\n",
    "            while back < front and counter[A[front]] != 0:\n",
    "                counter[A[back]] -= 1;\n",
    "                back += 1;\n",
    "        # print back, front;\n",
    "        result += (front - back + 1);\n",
    "        # print result;\n",
    "        if result > 1000000000:\n",
    "            return 1000000000;\n",
    "        counter[A[front]] += 1;\n",
    "    return result;"
   ]
  },
  {
   "cell_type": "code",
   "execution_count": 31,
   "metadata": {},
   "outputs": [
    {
     "data": {
      "text/plain": [
       "9"
      ]
     },
     "execution_count": 31,
     "metadata": {},
     "output_type": "execute_result"
    }
   ],
   "source": [
    "solution(6, [3,4,5,5,2])"
   ]
  },
  {
   "cell_type": "code",
   "execution_count": null,
   "metadata": {
    "collapsed": true
   },
   "outputs": [],
   "source": []
  }
 ],
 "metadata": {
  "kernelspec": {
   "display_name": "Python [conda root]",
   "language": "python",
   "name": "conda-root-py"
  },
  "language_info": {
   "codemirror_mode": {
    "name": "ipython",
    "version": 3
   },
   "file_extension": ".py",
   "mimetype": "text/x-python",
   "name": "python",
   "nbconvert_exporter": "python",
   "pygments_lexer": "ipython3",
   "version": "3.5.4"
  }
 },
 "nbformat": 4,
 "nbformat_minor": 2
}
