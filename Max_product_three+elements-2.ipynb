{
 "cells": [
  {
   "cell_type": "code",
   "execution_count": 83,
   "metadata": {},
   "outputs": [],
   "source": [
    "#This has not worked yet accurately. Have to work on it later!\n",
    "def solution(A):\n",
    "    n=len(A)\n",
    "    max_product=-1000\n",
    "\n",
    "#     if n==0 or n==1:\n",
    "#         max_product=A\n",
    "\n",
    "#     elif n < 3 and n>1:\n",
    "#         max_product=A[0]*A[1]\n",
    "\n",
    "    for first in range(0, n-2):\n",
    "        third=first+2\n",
    "        for second in range(first+1, n-1):\n",
    "            while (second<third) & (third<n):\n",
    "                max_product=max(max_product, A[first]*A[second]*A[third])\n",
    "                third+=1\n",
    "            \n",
    "                \n",
    "    return max_product\n",
    "                \n",
    "#[-3,1,2,-2,5,6]               "
   ]
  },
  {
   "cell_type": "code",
   "execution_count": 84,
   "metadata": {},
   "outputs": [
    {
     "data": {
      "text/plain": [
       "12"
      ]
     },
     "execution_count": 84,
     "metadata": {},
     "output_type": "execute_result"
    }
   ],
   "source": [
    "solution([-3,1,2,-2,5,6])"
   ]
  },
  {
   "cell_type": "code",
   "execution_count": 45,
   "metadata": {
    "collapsed": true
   },
   "outputs": [],
   "source": [
    "This solution is only O(N): amazing! therefore no sorting required\n",
    "def solution(A):\n",
    "    max = [-1000,-1000,-1000]\n",
    "    min = [1000, 1000]\n",
    "    for a in A:\n",
    "        if a >= max[0]:\n",
    "            max[2] = max[1]\n",
    "            max[1] = max[0]\n",
    "            max[0] = a\n",
    "        elif a >= max[1]:\n",
    "            max[2] = max[1]\n",
    "            max[1] = a\n",
    "        elif a > max[2]:\n",
    "            max[2] = a\n",
    "        if a <= min[0]:\n",
    "            min[1] = min[0]\n",
    "            min[0] = a\n",
    "        elif a <= min[1]:\n",
    "            min[1] = a\n",
    "    if max[0]*max[1]*max[2] >= max[0]*min[0]*min[1]:\n",
    "        return max[0]*max[1]*max[2]\n",
    "    else:\n",
    "        return max[0]*min[0]*min[1]"
   ]
  },
  {
   "cell_type": "code",
   "execution_count": 46,
   "metadata": {},
   "outputs": [
    {
     "data": {
      "text/plain": [
       "60"
      ]
     },
     "execution_count": 46,
     "metadata": {},
     "output_type": "execute_result"
    }
   ],
   "source": [
    "solution([-3,1,2,-2,5,6])"
   ]
  },
  {
   "cell_type": "code",
   "execution_count": 85,
   "metadata": {
    "collapsed": true
   },
   "outputs": [],
   "source": [
    "# This solution is O(N*O(log(N))): some explanation\n",
    "# It is completely a mathematical language issue. Consider any three elements A, B, and C, there indexes are M, N, L.\n",
    "# One one hand, the product of them is same, no matter what order is taken: A * B * C = C * B * A = A * C * B = ……\n",
    "# On the other hand, because they are not duplicate (their indexes are different). M != N != L. We can make: P = min(M, N, L), Q = middle(M, N, L), R = max(M, N, L).\n",
    "# As a result, ANY three-element-arrangement is a candidate for the answer. The statement “0 ≤ P < Q < R < N\"\n",
    "# means nothing BUT these three elements should be different in index. There are some similar description in other Codility challenges. You need to get through its real definition. Otherwise, some of them are intractable. PS: in other words, in the question's example input, the product of triplet (2, 3, 5) is the same as (2, 5, 3) and (5, 3, 2). In all these three triplets, the P is 2, Q is 3, and R is 5. Actually the content of P, Q, and R does not matter at all. We can try (5, 3, 2) instead of (2, 3, 5), because they have the same product.\n",
    "\n",
    "def solution(A):\n",
    "    A.sort()\n",
    "    return max(A[0]*A[1]*A[-1], A[-1]*A[-2]*A[-3])"
   ]
  },
  {
   "cell_type": "code",
   "execution_count": 86,
   "metadata": {},
   "outputs": [
    {
     "data": {
      "text/plain": [
       "60"
      ]
     },
     "execution_count": 86,
     "metadata": {},
     "output_type": "execute_result"
    }
   ],
   "source": [
    "solution([-3,1,2,-2,5,6])"
   ]
  }
 ],
 "metadata": {
  "kernelspec": {
   "display_name": "Python [conda root]",
   "language": "python",
   "name": "conda-root-py"
  },
  "language_info": {
   "codemirror_mode": {
    "name": "ipython",
    "version": 3
   },
   "file_extension": ".py",
   "mimetype": "text/x-python",
   "name": "python",
   "nbconvert_exporter": "python",
   "pygments_lexer": "ipython3",
   "version": "3.5.4"
  }
 },
 "nbformat": 4,
 "nbformat_minor": 2
}
