{
 "cells": [
  {
   "cell_type": "code",
   "execution_count": null,
   "metadata": {
    "collapsed": true
   },
   "outputs": [],
   "source": [
    "# pseudo:\n",
    "# zip the corresponding elements from both the lists\n",
    "# find the divisors by choosing a number within the range 1 to 10\n",
    "# divide the given number in the array by the chosen number and check whether the reminder equals to 0 and also whether \n",
    "# multiplying the divisor and quotient gives the dividend\n",
    "#     if yes: then check whether the divisor and quotient !=1 and divisor and quotient != the same number\n",
    "# form a set of the resulting divisor and quotient\n",
    "# now compare the set of values for each element in a pair\n",
    "# if they are equal then increment a counter from 0\n",
    "# return the value of the counter\n",
    "\n",
    "def solution(A, B):\n",
    "    \n",
    "    \n",
    "    for i, j in list(zip(A, B)):\n",
    "        \n",
    "    \n",
    "    \n",
    "    \n",
    "    \n",
    "\n",
    "    "
   ]
  },
  {
   "cell_type": "code",
   "execution_count": null,
   "metadata": {
    "collapsed": true
   },
   "outputs": [],
   "source": []
  },
  {
   "cell_type": "code",
   "execution_count": 13,
   "metadata": {},
   "outputs": [
    {
     "data": {
      "text/plain": [
       "[True, True, False]"
      ]
     },
     "execution_count": 13,
     "metadata": {},
     "output_type": "execute_result"
    }
   ],
   "source": [
    "A=[15, 10, 3]\n",
    "B=[75, 30, 5]\n",
    "list(map(lambda a,b: b%a==0, A, B))\n"
   ]
  },
  {
   "cell_type": "code",
   "execution_count": 22,
   "metadata": {},
   "outputs": [
    {
     "ename": "SyntaxError",
     "evalue": "can't assign to operator (<ipython-input-22-868b754d989a>, line 6)",
     "output_type": "error",
     "traceback": [
      "\u001b[0;36m  File \u001b[0;32m\"<ipython-input-22-868b754d989a>\"\u001b[0;36m, line \u001b[0;32m6\u001b[0m\n\u001b[0;31m    q=i//j or q=j//i\u001b[0m\n\u001b[0m     ^\u001b[0m\n\u001b[0;31mSyntaxError\u001b[0m\u001b[0;31m:\u001b[0m can't assign to operator\n"
     ]
    }
   ],
   "source": [
    "A=[15, 10, 3]\n",
    "B=[75, 30, 5]\n",
    "res=[]\n",
    "for i, j in list(zip(A, B)):\n",
    "    if i%j==0 or j%i==0:\n",
    "        q=i//j or q=j//i\n",
    "        for ele in range(int(sqrt(q))):\n",
    "            if i%ele ==0:\n",
    "                res.append(set(i))\n",
    "            if j%ele==0:\n",
    "                res.append(set(j))\n",
    "                \n",
    "        \n",
    "res        \n",
    "        \n",
    "#         if i*(j//i)==j or j*(i//j)==i:\n",
    "#             res.append((i,j))\n",
    "# res            \n",
    "\n",
    "# for i in \n",
    "\n",
    "# for ele in int(sqrt(min())):\n",
    "                "
   ]
  },
  {
   "cell_type": "code",
   "execution_count": 34,
   "metadata": {},
   "outputs": [
    {
     "name": "stdout",
     "output_type": "stream",
     "text": [
      "{3, 5}\n",
      "{25, 3}\n",
      "{2, 5}\n",
      "{2, 15}\n",
      "{10, 3}\n"
     ]
    },
    {
     "data": {
      "text/plain": [
       "[((15, 75), 0), ((10, 30), 0), ((3, 5), 0)]"
      ]
     },
     "execution_count": 34,
     "metadata": {},
     "output_type": "execute_result"
    }
   ],
   "source": [
    "from math import sqrt\n",
    "A=[15, 10, 3]\n",
    "B=[75, 30, 5]\n",
    "res=[]\n",
    "\n",
    "c=0\n",
    "for i, j in list(zip(A, B)):\n",
    "    for ele in range(1, int(sqrt(min(i,j))+1)):\n",
    "        if i%ele ==0:\n",
    "            if ele!=1 and ele!=i:\n",
    "                a=set((ele, i//ele))\n",
    "                print(a)\n",
    "        if j%ele==0:\n",
    "            if ele!=1 and ele!=j:\n",
    "                b=set((ele, j//ele))\n",
    "                print(b)\n",
    "            if a==b:\n",
    "                c+=1\n",
    "    res.append(((i, j), c))\n",
    "            \n",
    "res    "
   ]
  },
  {
   "cell_type": "code",
   "execution_count": 84,
   "metadata": {
    "collapsed": true
   },
   "outputs": [],
   "source": [
    "def gcd(a, b):\n",
    "    \"\"\"Return greatest common divisor using Euclid's Algorithm.\"\"\"\n",
    "    while b:      \n",
    "        a, b = b, a % b\n",
    "    return a\n"
   ]
  },
  {
   "cell_type": "code",
   "execution_count": 85,
   "metadata": {},
   "outputs": [
    {
     "data": {
      "text/plain": [
       "15"
      ]
     },
     "execution_count": 85,
     "metadata": {},
     "output_type": "execute_result"
    }
   ],
   "source": [
    "gcd(15, 15)"
   ]
  },
  {
   "cell_type": "code",
   "execution_count": 17,
   "metadata": {
    "collapsed": true
   },
   "outputs": [],
   "source": [
    "def lcm(a, b):\n",
    "    \"\"\"Return lowest common multiple.\"\"\"\n",
    "    return a * b // gcd(a, b)\n"
   ]
  },
  {
   "cell_type": "code",
   "execution_count": 18,
   "metadata": {},
   "outputs": [
    {
     "data": {
      "text/plain": [
       "75"
      ]
     },
     "execution_count": 18,
     "metadata": {},
     "output_type": "execute_result"
    }
   ],
   "source": [
    "lcm(15, 75)"
   ]
  },
  {
   "cell_type": "code",
   "execution_count": 76,
   "metadata": {},
   "outputs": [
    {
     "data": {
      "text/plain": [
       "[[15, 75], [10, 30]]"
      ]
     },
     "execution_count": 76,
     "metadata": {},
     "output_type": "execute_result"
    }
   ],
   "source": [
    "from math import sqrt\n",
    "A=[15, 10, 3]\n",
    "B=[75, 30, 5]\n",
    "res=[]\n",
    "primfac = []\n",
    "\n",
    "def min_num(A, B):\n",
    "    res=[]\n",
    "    for i, j in list(zip(A, B)):\n",
    "        if (i%j ==0) or(j%i==0):\n",
    "            res.append([i, j])\n",
    "    \n",
    "    return res\n",
    "        \n",
    "\n",
    "def min_prime(n):\n",
    "    primfac = []\n",
    "    d=2\n",
    "    for element in n:\n",
    "        for i in element:\n",
    "            while d*d <= i:\n",
    "                while (i % d) == 0:\n",
    "                    \n",
    "                \n",
    "            \n",
    "    \n",
    "\n",
    "min_num(A, B)    "
   ]
  },
  {
   "cell_type": "code",
   "execution_count": 35,
   "metadata": {},
   "outputs": [
    {
     "data": {
      "text/plain": [
       "8"
      ]
     },
     "execution_count": 35,
     "metadata": {},
     "output_type": "execute_result"
    }
   ],
   "source": [
    "int(sqrt(75))"
   ]
  },
  {
   "cell_type": "code",
   "execution_count": 36,
   "metadata": {},
   "outputs": [
    {
     "data": {
      "text/plain": [
       "3"
      ]
     },
     "execution_count": 36,
     "metadata": {},
     "output_type": "execute_result"
    }
   ],
   "source": [
    "int(sqrt(15))"
   ]
  },
  {
   "cell_type": "code",
   "execution_count": 39,
   "metadata": {},
   "outputs": [
    {
     "data": {
      "text/plain": [
       "15"
      ]
     },
     "execution_count": 39,
     "metadata": {},
     "output_type": "execute_result"
    }
   ],
   "source": [
    "15%75"
   ]
  },
  {
   "cell_type": "code",
   "execution_count": 72,
   "metadata": {
    "collapsed": true
   },
   "outputs": [],
   "source": [
    "def primes(n):\n",
    "    primfac = []\n",
    "    d = 2\n",
    "    while d*d <= n:\n",
    "        while (n % d) == 0:\n",
    "            primfac.append(d)  # supposing you want multiple factors repeated\n",
    "            n //= d\n",
    "        d += 1\n",
    "    if n > 1:\n",
    "        primfac.append(n)\n",
    "    return primfac\n"
   ]
  },
  {
   "cell_type": "code",
   "execution_count": 73,
   "metadata": {},
   "outputs": [
    {
     "data": {
      "text/plain": [
       "[2, 3, 5]"
      ]
     },
     "execution_count": 73,
     "metadata": {},
     "output_type": "execute_result"
    }
   ],
   "source": [
    "primes(30)"
   ]
  },
  {
   "cell_type": "code",
   "execution_count": 63,
   "metadata": {},
   "outputs": [
    {
     "data": {
      "text/plain": [
       "[3, 25, 5, 15]"
      ]
     },
     "execution_count": 63,
     "metadata": {},
     "output_type": "execute_result"
    }
   ],
   "source": [
    "ans=[]\n",
    "for i in range(1, int(sqrt(75))+1):\n",
    "    if 75%i==0:\n",
    "        if i!=1 and i!=75:\n",
    "            ans.extend((i, 75//i))\n",
    "ans\n",
    "        \n",
    "    "
   ]
  },
  {
   "cell_type": "code",
   "execution_count": 77,
   "metadata": {
    "collapsed": true
   },
   "outputs": [],
   "source": [
    "def gcd(x, y):\n",
    "    ''' Compute the greatest common divisor.\n",
    "    '''\n",
    "    if x%y == 0:\n",
    "        return y;\n",
    "    else:\n",
    "        return gcd(y, x%y)\n",
    "def removeCommonPrimeDivisors(x, y):\n",
    "    ''' Remove all prime divisors of x, which also exist in y. And\n",
    "        return the remaining part of x.\n",
    "    '''\n",
    "    while x != 1:\n",
    "        gcd_value = gcd(x, y)\n",
    "        if gcd_value == 1:\n",
    "            # x does not contain any more\n",
    "            # common prime divisors\n",
    "            break\n",
    "        x /= gcd_value\n",
    "    return x\n",
    "def hasSamePrimeDivisors(x, y):\n",
    "    gcd_value = gcd(x, y)   # The gcd contains all\n",
    "                            # the common prime divisors\n",
    "    x = removeCommonPrimeDivisors(x, gcd_value)\n",
    "    if x != 1:\n",
    "        # If x and y have exactly the same common\n",
    "        # prime divisors, x must be composed by\n",
    "        # the prime divisors in gcd_value. So\n",
    "        # after previous loop, x must be one.\n",
    "        return False\n",
    "    y = removeCommonPrimeDivisors(y, gcd_value)\n",
    "    return y == 1\n",
    "def solution(A, B):\n",
    "    count = 0\n",
    "    for x,y in zip(A,B):\n",
    "        if hasSamePrimeDivisors(x,y):\n",
    "            count += 1\n",
    "    return count"
   ]
  },
  {
   "cell_type": "code",
   "execution_count": 78,
   "metadata": {},
   "outputs": [
    {
     "data": {
      "text/plain": [
       "1"
      ]
     },
     "execution_count": 78,
     "metadata": {},
     "output_type": "execute_result"
    }
   ],
   "source": [
    "A=[15, 10, 3]\n",
    "B=[75, 30, 5]\n",
    "solution(A,B)"
   ]
  },
  {
   "cell_type": "code",
   "execution_count": 81,
   "metadata": {
    "collapsed": true
   },
   "outputs": [],
   "source": [
    "This solution works \n",
    "def gcd(a, b):\n",
    "    if b == 0:\n",
    "        return a\n",
    "    return gcd(b, a % b)\n",
    "def solution(A, B):\n",
    "    cnt = 0\n",
    "    for i in range(len(A)):\n",
    "        a, b = A[i], B[i]\n",
    "        g = gcd(a, b)\n",
    "        while True:\n",
    "            d = gcd(a, g)\n",
    "            if 1 == d:\n",
    "                break\n",
    "            a /= d\n",
    "        while True:\n",
    "            d = gcd(b, g)\n",
    "            if 1 == d:\n",
    "                break\n",
    "            b /= d\n",
    "        cnt += 1 if a == 1 and b == 1 else 0\n",
    "    return cnt"
   ]
  },
  {
   "cell_type": "code",
   "execution_count": 82,
   "metadata": {},
   "outputs": [
    {
     "data": {
      "text/plain": [
       "1"
      ]
     },
     "execution_count": 82,
     "metadata": {},
     "output_type": "execute_result"
    }
   ],
   "source": [
    "A=[15, 10, 3]\n",
    "B=[75, 30, 5]\n",
    "solution(A,B)"
   ]
  }
 ],
 "metadata": {
  "kernelspec": {
   "display_name": "Python [conda root]",
   "language": "python",
   "name": "conda-root-py"
  },
  "language_info": {
   "codemirror_mode": {
    "name": "ipython",
    "version": 3
   },
   "file_extension": ".py",
   "mimetype": "text/x-python",
   "name": "python",
   "nbconvert_exporter": "python",
   "pygments_lexer": "ipython3",
   "version": "3.5.4"
  }
 },
 "nbformat": 4,
 "nbformat_minor": 2
}
