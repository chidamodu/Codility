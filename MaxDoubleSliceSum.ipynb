{
 "cells": [
  {
   "cell_type": "code",
   "execution_count": 12,
   "metadata": {
    "collapsed": true
   },
   "outputs": [],
   "source": [
    "#MaxDoubleSliceSum\n",
    "\n",
    "#Trial with middle value, first value, and the last value literally\n",
    "def solution(A):\n",
    "    first_index=0\n",
    "    last_index=-1\n",
    "    middle_index=int(len(A)/2)\n",
    "    return sum(A[first_index+1:middle_index]+A[middle_index+1:last_index])\n",
    "    \n",
    "    "
   ]
  },
  {
   "cell_type": "code",
   "execution_count": 13,
   "metadata": {},
   "outputs": [
    {
     "data": {
      "text/plain": [
       "11"
      ]
     },
     "execution_count": 13,
     "metadata": {},
     "output_type": "execute_result"
    }
   ],
   "source": [
    "solution([3,2,6,-1,4,5,-1,2])"
   ]
  },
  {
   "cell_type": "code",
   "execution_count": 27,
   "metadata": {
    "collapsed": true
   },
   "outputs": [],
   "source": [
    "def solution(A):\n",
    "    A_len = len(A)    # The length of array A\n",
    "    # Get the sum of maximum subarray, which ends this position\n",
    "    # Method: http://en.wikipedia.org/wiki/Maximum_subarray_problem\n",
    "    max_ending_here = [0] * A_len\n",
    "    max_ending_here_temp = 0\n",
    "    for index in range(1, A_len-2):\n",
    "        max_ending_here_temp = max(0, A[index]+max_ending_here_temp)\n",
    "        max_ending_here[index] = max_ending_here_temp\n",
    "    # Get the sum of maximum subarray, which begins this position\n",
    "    # The same method. But we travel from the tail to the head\n",
    "    max_beginning_here = [0] * A_len\n",
    "    max_beginning_here_temp = 0\n",
    "    for index in range(A_len-2, 1, -1):\n",
    "        max_beginning_here_temp = max(0, A[index]+max_beginning_here_temp)\n",
    "        max_beginning_here[index] = max_beginning_here_temp\n",
    "    # Connect two subarray for a double_slice. If the first subarray\n",
    "    # ends at position i, the second subarray starts at position i+2.\n",
    "    # Then we compare each double slice to get the one with the\n",
    "    # greatest sum.\n",
    "    max_double_slice = 0\n",
    "    for index in range(0, A_len-2):\n",
    "        max_double_slice = max(max_double_slice,\n",
    "                 max_ending_here[index] + max_beginning_here[index+2] )\n",
    "    return max_double_slice"
   ]
  },
  {
   "cell_type": "code",
   "execution_count": 28,
   "metadata": {},
   "outputs": [
    {
     "data": {
      "text/plain": [
       "17"
      ]
     },
     "execution_count": 28,
     "metadata": {},
     "output_type": "execute_result"
    }
   ],
   "source": [
    "solution([3,2,6,-1,4,5,-1,2])"
   ]
  }
 ],
 "metadata": {
  "kernelspec": {
   "display_name": "Python [conda root]",
   "language": "python",
   "name": "conda-root-py"
  },
  "language_info": {
   "codemirror_mode": {
    "name": "ipython",
    "version": 3
   },
   "file_extension": ".py",
   "mimetype": "text/x-python",
   "name": "python",
   "nbconvert_exporter": "python",
   "pygments_lexer": "ipython3",
   "version": "3.5.4"
  }
 },
 "nbformat": 4,
 "nbformat_minor": 2
}
