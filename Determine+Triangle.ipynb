{
 "cells": [
  {
   "cell_type": "code",
   "execution_count": 16,
   "metadata": {
    "collapsed": true
   },
   "outputs": [],
   "source": [
    "def solution(A):\n",
    "    n=len(A)\n",
    "    if n<3:\n",
    "        return 0\n",
    "    A.sort()\n",
    "\n",
    "    for i in range(n-2):\n",
    "        if A[i]+A[i+1]>A[i+2]:\n",
    "            return 1\n",
    "    return 0\n",
    "\n",
    "\n",
    "# P.S.:\n",
    "# For the given definition of triangular, it is impossible to include a negative number in a triangular (If A < B < C < 0, A + B always < C.).\n",
    "# The code here did not assume all input are positive, but will skip all of negative numbers.\n",
    "# On one hand, there is no false triangular. Since the array is sorted, we already know A[index] < = A[index+1] <= A[index+2], and all values are positive.\n",
    "# A[index] <= A[index+2], so it must be true that A[index] < A[index+1] + A[index+2]. Similarly, A[index+1] < A[index] + A[index+2].\n",
    "# Finally, we ONLY need to check A[index]+A[index+1] > A[index+2] to confirm the existence of triangular.\n",
    "\n",
    "# On the other hand, there is no underreporting triangular.\n",
    "# If the inequality can hold for three out-of-order elements, to say, A[index]+A[index+m] > A[index+n], where n>m>1\n",
    "# Again, because the array is sorted, we must have A[index] < = A[index+m-1] and A[index+m+1] <= A[index + n]. \n",
    "# So A[index+m-1] +A[index+m] >= A[index]+A[index+m] > A[index+n] >= A[index+m+1].\n",
    "# After simplification, A[index+m-1] +A[index+m] > A[index+m+1].\n",
    "# In other words, if we have any inequality holding for out-of-order elements, we MUST have AT LEAST an inequality\n",
    "# holding for three consecutive elements."
   ]
  },
  {
   "cell_type": "code",
   "execution_count": 17,
   "metadata": {},
   "outputs": [
    {
     "data": {
      "text/plain": [
       "1"
      ]
     },
     "execution_count": 17,
     "metadata": {},
     "output_type": "execute_result"
    }
   ],
   "source": [
    "solution([10,2,5,1,8,20])"
   ]
  }
 ],
 "metadata": {
  "kernelspec": {
   "display_name": "Python [conda root]",
   "language": "python",
   "name": "conda-root-py"
  },
  "language_info": {
   "codemirror_mode": {
    "name": "ipython",
    "version": 3
   },
   "file_extension": ".py",
   "mimetype": "text/x-python",
   "name": "python",
   "nbconvert_exporter": "python",
   "pygments_lexer": "ipython3",
   "version": "3.5.4"
  }
 },
 "nbformat": 4,
 "nbformat_minor": 2
}
