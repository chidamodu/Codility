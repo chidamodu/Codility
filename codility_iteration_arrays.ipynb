{
 "cells": [
  {
   "cell_type": "code",
   "execution_count": 77,
   "metadata": {},
   "outputs": [],
   "source": [
    "# BinaryGap\n",
    "# Find longest sequence of zeros in binary representation of an integer.\n",
    "\n",
    "\n",
    "# pseudo:\n",
    "# convert given n into its binary format\n",
    "\n",
    "# loop through after the first element until next 1    \n",
    "\n",
    "# at the same time set a counter to 0 and increase its value if incrementing the loop encounters 0\n",
    "#     if i =0 then increment the counter else continue\n",
    "\n",
    "# once the loop faces 1 set the counter value back to 0 and count until next 1\n",
    "# if there is no next 1 then return 0\n",
    "\n",
    "# A binary gap within a positive integer N is any maximal sequence of consecutive zeros that is surrounded by ones at both ends in the binary representation of N.\n",
    "\n",
    "# For example, number 9 has binary representation 1001 and contains a binary gap of length 2. The number 529 has binary representation 1000010001 and contains two binary gaps: one of length 4 and one of length 3. The number 20 has binary representation 10100 and contains one binary gap of length 1. The number 15 has binary representation 1111 and has no binary gaps. The number 32 has binary representation 100000 and has no binary gaps.\n",
    "# Write a function:\n",
    "\n",
    "# def solution(N)\n",
    "# that, given a positive integer N, returns the length of its longest binary gap. The function should return 0 if N doesn't contain a binary gap.\n",
    "# For example, given N = 1041 the function should return 5, because N has binary representation 10000010001 and so its longest binary gap is of length 5. Given N = 32 the function should return 0, because N has binary representation '100000' and thus no binary gaps.\n",
    "# Write an efficient algorithm for the following assumptions:\n",
    "# N is an integer within the range [1..2,147,483,647].\n",
    "\n",
    "\n",
    "\n",
    "def BinaryGap(n):\n",
    "    c=0\n",
    "    res=[]\n",
    "    binf=\"{0:b}\".format(n)   \n",
    "    for i in range(1, len(binf)):\n",
    "        #print(c)\n",
    "        if int(binf[i])==0:\n",
    "            c+=1\n",
    "            #print(c)\n",
    "        else:\n",
    "            res.append(c)\n",
    "            #print(res)\n",
    "            c=0   \n",
    "    return max(res) if len(res)>0 else 0\n",
    "            \n",
    "    \n",
    "    "
   ]
  },
  {
   "cell_type": "code",
   "execution_count": 78,
   "metadata": {},
   "outputs": [
    {
     "data": {
      "text/plain": [
       "0"
      ]
     },
     "execution_count": 78,
     "metadata": {},
     "output_type": "execute_result"
    }
   ],
   "source": [
    "BinaryGap(2)"
   ]
  },
  {
   "cell_type": "code",
   "execution_count": 5,
   "metadata": {},
   "outputs": [
    {
     "name": "stdout",
     "output_type": "stream",
     "text": [
      "1\n",
      "2\n",
      "3\n",
      "4\n",
      "5\n"
     ]
    }
   ],
   "source": [
    "desf=\"{0:b}\".format(37)\n",
    "for i in range(1, len(desf)):\n",
    "    print(i)"
   ]
  },
  {
   "cell_type": "code",
   "execution_count": 6,
   "metadata": {},
   "outputs": [
    {
     "data": {
      "text/plain": [
       "67"
      ]
     },
     "execution_count": 6,
     "metadata": {},
     "output_type": "execute_result"
    }
   ],
   "source": [
    "c=[1,45,67]\n",
    "max(c)"
   ]
  },
  {
   "cell_type": "code",
   "execution_count": 9,
   "metadata": {},
   "outputs": [
    {
     "data": {
      "text/plain": [
       "'100101'"
      ]
     },
     "execution_count": 9,
     "metadata": {},
     "output_type": "execute_result"
    }
   ],
   "source": [
    "\"{0:b}\".format(37)"
   ]
  },
  {
   "cell_type": "code",
   "execution_count": 64,
   "metadata": {},
   "outputs": [],
   "source": [
    "fg=[]\n",
    "fg.append(0)\n",
    "fg\n",
    "if not fg:\n",
    "    print(fg)"
   ]
  },
  {
   "cell_type": "code",
   "execution_count": 106,
   "metadata": {
    "collapsed": true
   },
   "outputs": [],
   "source": [
    "# CyclicRotation\n",
    "# Rotate an array to the right by a given number of steps.\n",
    "# An array A consisting of N integers is given. Rotation of the array means that each element is shifted right by one index, and the last element of the array is moved to the first place. For example, the rotation of array A = [3, 8, 9, 7, 6] is [6, 3, 8, 9, 7] (elements are shifted right by one index and 6 is moved to the first place).\n",
    "\n",
    "# The goal is to rotate array A K times; that is, each element of A will be shifted to the right K times.\n",
    "\n",
    "# Write a function:\n",
    "\n",
    "# def solution(A, K)\n",
    "# that, given an array A consisting of N integers and an integer K, returns the array A rotated K times.\n",
    "\n",
    "# For example, given\n",
    "\n",
    "#     A = [3, 8, 9, 7, 6]\n",
    "#     K = 3\n",
    "# the function should return [9, 7, 6, 3, 8]. Three rotations were made:\n",
    "\n",
    "#     [3, 8, 9, 7, 6] -> [6, 3, 8, 9, 7]\n",
    "#     [6, 3, 8, 9, 7] -> [7, 6, 3, 8, 9]\n",
    "#     [7, 6, 3, 8, 9] -> [9, 7, 6, 3, 8]\n",
    "# For another example, given\n",
    "\n",
    "#     A = [0, 0, 0]\n",
    "#     K = 1\n",
    "# the function should return [0, 0, 0]\n",
    "\n",
    "# Given\n",
    "\n",
    "#     A = [1, 2, 3, 4]\n",
    "#     K = 4\n",
    "# the function should return [1, 2, 3, 4]\n",
    "\n",
    "# Assume that:\n",
    "\n",
    "# N and K are integers within the range [0..100];\n",
    "# each element of array A is an integer within the range [−1,000..1,000].\n",
    "# In your solution, focus on correctness. The performance of your solution will not be the focus of the assessment.\n",
    "\n",
    "\n",
    "def rty(li, x):\n",
    "    if len(li)!=0:\n",
    "        return li[(-x % len(li)):] + li[:-x % len(li)]\n",
    "    else:\n",
    "        return 0\n",
    "        "
   ]
  },
  {
   "cell_type": "code",
   "execution_count": 105,
   "metadata": {},
   "outputs": [
    {
     "data": {
      "text/plain": [
       "0"
      ]
     },
     "execution_count": 105,
     "metadata": {},
     "output_type": "execute_result"
    }
   ],
   "source": [
    "rty([], 1)"
   ]
  }
 ],
 "metadata": {
  "kernelspec": {
   "display_name": "Python [conda root]",
   "language": "python",
   "name": "conda-root-py"
  },
  "language_info": {
   "codemirror_mode": {
    "name": "ipython",
    "version": 3
   },
   "file_extension": ".py",
   "mimetype": "text/x-python",
   "name": "python",
   "nbconvert_exporter": "python",
   "pygments_lexer": "ipython3",
   "version": "3.5.4"
  }
 },
 "nbformat": 4,
 "nbformat_minor": 2
}
