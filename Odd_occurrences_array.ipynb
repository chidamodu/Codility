{
 "cells": [
  {
   "cell_type": "code",
   "execution_count": 9,
   "metadata": {
    "collapsed": true
   },
   "outputs": [],
   "source": [
    "#This solution works but received only 66% on codility due to runtime error on three test cases. It does better on time \n",
    "#complexity compared to the one that is immediately below using count\n",
    "def solution(A):\n",
    "    d={}\n",
    "    for item in A:\n",
    "        d[item]=d.get(item, 0)+1\n",
    "    for k, v in d.items():\n",
    "        if v==1:\n",
    "            return k"
   ]
  },
  {
   "cell_type": "code",
   "execution_count": 10,
   "metadata": {},
   "outputs": [
    {
     "data": {
      "text/plain": [
       "7"
      ]
     },
     "execution_count": 10,
     "metadata": {},
     "output_type": "execute_result"
    }
   ],
   "source": [
    "solution([7])"
   ]
  },
  {
   "cell_type": "code",
   "execution_count": null,
   "metadata": {
    "collapsed": true
   },
   "outputs": [],
   "source": [
    "9,3,9,3,9,7,9"
   ]
  },
  {
   "cell_type": "code",
   "execution_count": 13,
   "metadata": {
    "collapsed": true
   },
   "outputs": [],
   "source": [
    "This looks like would work but not sure of time complexity: O(N**2) 55% on codility\n",
    "def solution(A):\n",
    "    for item in A:\n",
    "        if A.count(item)==1:#we would traverse the array again in order to count the number of occurrences of the item in the array\n",
    "            return item"
   ]
  },
  {
   "cell_type": "code",
   "execution_count": 14,
   "metadata": {},
   "outputs": [
    {
     "data": {
      "text/plain": [
       "7"
      ]
     },
     "execution_count": 14,
     "metadata": {},
     "output_type": "execute_result"
    }
   ],
   "source": [
    "solution([9,3,9,3,9,7,9])"
   ]
  },
  {
   "cell_type": "code",
   "execution_count": 31,
   "metadata": {
    "collapsed": true
   },
   "outputs": [],
   "source": [
    "#It is a bit of workaround but it has not worked yet: throws keyerror\n",
    "def solution(A):\n",
    "    first=0\n",
    "    last=len(A)-1\n",
    "    d={}\n",
    "\n",
    "    while first<last:\n",
    "        if A[last]==A[first]:\n",
    "            d[A[first]].append(1)\n",
    "            \n",
    "        if A[last-1]==A[first]:\n",
    "            d[A[first]].append(1)\n",
    "            last-=1\n",
    "        \n",
    "        elif A[first+1]==A[last]:\n",
    "            d[A[first+1]].append(1)\n",
    "            first+=1\n",
    "        \n",
    "        else:\n",
    "            last-=1\n",
    "            first+=1\n",
    "    \n",
    "    return d\n",
    "            \n",
    "            \n",
    "            \n",
    "            "
   ]
  },
  {
   "cell_type": "code",
   "execution_count": 43,
   "metadata": {},
   "outputs": [
    {
     "data": {
      "text/plain": [
       "False"
      ]
     },
     "execution_count": 43,
     "metadata": {},
     "output_type": "execute_result"
    }
   ],
   "source": [
    "False ^ False"
   ]
  },
  {
   "cell_type": "code",
   "execution_count": 44,
   "metadata": {},
   "outputs": [
    {
     "data": {
      "text/plain": [
       "True"
      ]
     },
     "execution_count": 44,
     "metadata": {},
     "output_type": "execute_result"
    }
   ],
   "source": [
    "False ^ True"
   ]
  },
  {
   "cell_type": "code",
   "execution_count": 45,
   "metadata": {},
   "outputs": [
    {
     "data": {
      "text/plain": [
       "False"
      ]
     },
     "execution_count": 45,
     "metadata": {},
     "output_type": "execute_result"
    }
   ],
   "source": [
    "True ^ True"
   ]
  },
  {
   "cell_type": "code",
   "execution_count": 50,
   "metadata": {
    "collapsed": true
   },
   "outputs": [],
   "source": [
    "#This is a great solution using XOR operator: O(N) or O(N*log(N))\n",
    "\n",
    "\n",
    "Explanation:1\n",
    "#There is a great explanation found here: https://stackoverflow.com/questions/14526584/what-does-the-xor-operator-do/14526640\n",
    "#XOR stands for exclusive OR. It is used in cryptography because it let you 'flip' the bits using a mask in a reversable operation:\n",
    "\n",
    "# >>> 10 ^ 5\n",
    "# 15\n",
    "# >>> 15 ^ 5\n",
    "# 10\n",
    "\n",
    "\n",
    "Explanation:2\n",
    "# XOR is a binary operation, it stands for \"exclusive or\", that is to say the resulting bit evaluates to one if only exactly one of the bits is set.\n",
    "# This is its function table:\n",
    "\n",
    "# a | b | a ^ b\n",
    "# --|---|------\n",
    "# 0 | 0 | 0\n",
    "# 0 | 1 | 1\n",
    "# 1 | 0 | 1\n",
    "# 1 | 1 | 0\n",
    "# This operation is performed between every two corresponding bits of a number.\n",
    "\n",
    "# Example: 7 ^ 10\n",
    "# In binary: 0111 ^ 1010\n",
    "\n",
    "#   0111\n",
    "# ^ 1010\n",
    "# ======\n",
    "#   1101 = 13\n",
    "# Properties: The operation is commutative, associative and self-inverse.\n",
    "\n",
    "# It is also the same as addition modulo 2.\n",
    "\n",
    "def solution(A):\n",
    "    result=0\n",
    "    for item in A:\n",
    "        result^=item\n",
    "    return result"
   ]
  },
  {
   "cell_type": "code",
   "execution_count": 51,
   "metadata": {},
   "outputs": [
    {
     "data": {
      "text/plain": [
       "7"
      ]
     },
     "execution_count": 51,
     "metadata": {},
     "output_type": "execute_result"
    }
   ],
   "source": [
    "solution([9,3,9,3,9,7,9])"
   ]
  }
 ],
 "metadata": {
  "kernelspec": {
   "display_name": "Python [conda root]",
   "language": "python",
   "name": "conda-root-py"
  },
  "language_info": {
   "codemirror_mode": {
    "name": "ipython",
    "version": 3
   },
   "file_extension": ".py",
   "mimetype": "text/x-python",
   "name": "python",
   "nbconvert_exporter": "python",
   "pygments_lexer": "ipython3",
   "version": "3.5.4"
  }
 },
 "nbformat": 4,
 "nbformat_minor": 2
}
