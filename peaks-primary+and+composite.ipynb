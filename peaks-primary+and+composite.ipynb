{
 "cells": [
  {
   "cell_type": "code",
   "execution_count": 10,
   "metadata": {},
   "outputs": [
    {
     "name": "stdout",
     "output_type": "stream",
     "text": [
      "[]\n",
      "[]\n",
      "[]\n",
      "[]\n"
     ]
    }
   ],
   "source": [
    "L=[0, 1, 2, 3, 4, 5, 6, 7, 8, 9]\n",
    "for i in range(0, 12, 3):\n",
    "    print (L[i:i])"
   ]
  },
  {
   "cell_type": "code",
   "execution_count": 15,
   "metadata": {},
   "outputs": [
    {
     "name": "stdout",
     "output_type": "stream",
     "text": [
      "3\n",
      "6\n"
     ]
    }
   ],
   "source": [
    "for i in range(0, 6, 3):\n",
    "    print(i+3)"
   ]
  },
  {
   "cell_type": "code",
   "execution_count": 288,
   "metadata": {
    "collapsed": true
   },
   "outputs": [],
   "source": [
    "#Divide an array array into the maximum number of same-sized blocks, each of which should contain an index P such that A[P - 1] < A[P] > A[P + 1].\n",
    "\n",
    "#Finding the factors by dividing the length of the given array\n",
    "def divide_array(A):\n",
    "    factor=[]\n",
    "    res=[]\n",
    "    L=len(A)\n",
    "    for ele in range(1, L):\n",
    "        if ele!=1 and L%ele==0:\n",
    "            factor.append(ele)\n",
    "\n",
    "    for block in factor:\n",
    "#         print(block)\n",
    "        for element in factor:\n",
    "#             print(element)\n",
    "            if element!=block and block*element==L:\n",
    "#                 \n",
    "                res.append([A[i:i+element] for i in range(0, L, element)])\n",
    "                \n",
    "#             else:\n",
    "#                 continue\n",
    "    \n",
    "    return res\n",
    "                \n",
    "                    \n"
   ]
  },
  {
   "cell_type": "code",
   "execution_count": 289,
   "metadata": {
    "scrolled": true
   },
   "outputs": [
    {
     "data": {
      "text/plain": [
       "[[[1, 2, 3, 4, 3, 4], [1, 2, 3, 4, 6, 2]],\n",
       " [[1, 2, 3, 4], [3, 4, 1, 2], [3, 4, 6, 2]],\n",
       " [[1, 2, 3], [4, 3, 4], [1, 2, 3], [4, 6, 2]],\n",
       " [[1, 2], [3, 4], [3, 4], [1, 2], [3, 4], [6, 2]]]"
      ]
     },
     "execution_count": 289,
     "metadata": {},
     "output_type": "execute_result"
    }
   ],
   "source": [
    "#divide_array([1, 2, 3, 4, 3, 4, 1, 2, 3, 4, 6, 2])\n",
    "\n",
    "\n",
    "divide_array([1, 2, 3, 4, 3, 4, 1, 2, 3, 4, 6, 2])"
   ]
  },
  {
   "cell_type": "code",
   "execution_count": 285,
   "metadata": {},
   "outputs": [
    {
     "name": "stdout",
     "output_type": "stream",
     "text": [
      "[1, 3, 3]\n",
      "[1, 3, 6]\n",
      "[2, 4, 4]\n",
      "[2, 4, 2]\n"
     ]
    }
   ],
   "source": [
    "gh=[1, 3, 3, 1, 3, 6, 2, 4, 4, 2, 4, 2]\n",
    "\n",
    "# chunks=[gh[x:x+2] for x in range(0, len(gh), 2)]\n",
    "\n",
    "for i in range(0, len(gh), 3):\n",
    "    print(gh[i:i+3])\n"
   ]
  },
  {
   "cell_type": "code",
   "execution_count": 41,
   "metadata": {},
   "outputs": [
    {
     "data": {
      "text/plain": [
       "(6, 0)"
      ]
     },
     "execution_count": 41,
     "metadata": {},
     "output_type": "execute_result"
    }
   ],
   "source": [
    "k, m = divmod(12, 2)\n",
    "k, m"
   ]
  },
  {
   "cell_type": "code",
   "execution_count": 50,
   "metadata": {
    "collapsed": true
   },
   "outputs": [],
   "source": [
    "def split(a, n):\n",
    "    k, m = divmod(len(a), n)\n",
    "    return (a[i * k + min(i, m):(i + 1) * k + min(i + 1, m)] for i in range(n))"
   ]
  },
  {
   "cell_type": "code",
   "execution_count": 51,
   "metadata": {},
   "outputs": [
    {
     "data": {
      "text/plain": [
       "[range(0, 5), range(5, 10)]"
      ]
     },
     "execution_count": 51,
     "metadata": {},
     "output_type": "execute_result"
    }
   ],
   "source": [
    "A=[0, 1, 2, 3, 4, 5, 6, 7, 8, 9]\n",
    "list(split(range(10), 2))"
   ]
  },
  {
   "cell_type": "code",
   "execution_count": 314,
   "metadata": {
    "scrolled": true
   },
   "outputs": [],
   "source": [
    "G=[[[1, 2, 3, 4, 3, 4], [1, 2, 3, 4, 6, 2]],\n",
    " [[1, 2, 3, 4], [3, 4, 1, 2], [3, 4, 6, 2]],\n",
    " [[1, 2, 3], [4, 3, 4], [1, 2, 3], [4, 6, 2]],\n",
    " [[1, 2], [3, 4], [3, 4], [1, 2], [3, 4], [6, 2]]]\n",
    "\n",
    "\n"
   ]
  },
  {
   "cell_type": "code",
   "execution_count": 300,
   "metadata": {
    "scrolled": true
   },
   "outputs": [
    {
     "name": "stdout",
     "output_type": "stream",
     "text": [
      "No peaks in the blocks\n",
      "No peaks in the blocks\n",
      "[1, 2, 3, 4, 3, 4]\n",
      "No peaks in the blocks\n",
      "No peaks in the blocks\n",
      "No peaks in the blocks\n",
      "No peaks in the blocks\n",
      "[1, 2, 3, 4, 6, 2]\n",
      "No peaks in the blocks\n",
      "No peaks in the blocks\n",
      "[3, 4, 1, 2]\n",
      "No peaks in the blocks\n",
      "No peaks in the blocks\n",
      "[3, 4, 6, 2]\n",
      "No peaks in the blocks\n",
      "No peaks in the blocks\n",
      "No peaks in the blocks\n",
      "[4, 6, 2]\n"
     ]
    }
   ],
   "source": [
    "\n",
    "for i in range(len(G)):\n",
    "    for j in range(len(G[i])):\n",
    "        \n",
    "        for c in range(1, len(G[i][j])-1):\n",
    "#             print(G[i][j][c])\n",
    "            \n",
    "            \n",
    "            if G[i][j][c] > G[i][j][c+1] and G[i][j][c] > G[i][j][c-1]:\n",
    "                print(G[i][j])\n",
    "            else:\n",
    "                print(\"No peaks in the blocks\")\n",
    "                \n",
    "                \n",
    "#         print(G[i][j])\n",
    "#     for j in G[i]:\n",
    "#         for c in range(1, len(j)-1):\n",
    "#             if j[c]>j[c+1]:\n",
    "#                 print(\"yes\")"
   ]
  },
  {
   "cell_type": "code",
   "execution_count": 309,
   "metadata": {},
   "outputs": [
    {
     "data": {
      "text/plain": [
       "[2, 2, 2, 2, 2, 3, 3, 3, 3, 4, 4, 4]"
      ]
     },
     "execution_count": 309,
     "metadata": {},
     "output_type": "execute_result"
    }
   ],
   "source": [
    "#Going to compare the last element of first nested list with the first element of the next nested list\n",
    "res1=[]\n",
    "for i in range(len(G)):\n",
    "    \n",
    "    for j in range(len(G[i])):\n",
    "        \n",
    "        for c in range(1, len(G[i][j])-1):\n",
    "#             print(G[i][j][c])\n",
    "            \n",
    "           \n",
    "            if (G[i][j][c] > G[i][j][c+1] and G[i][j][c] > G[i][j][c-1]) | (G[i][j][-1]> G[i+1][j][0] and G[i][j][-1]>G[i][j][-2]):\n",
    "                res1.append(len(G[i]))\n",
    "                \n",
    "#             ((G[i][j][-1])>(G[i+1][j][0]) and (G[i][j][-1])>(G[i][j][-2])):\n",
    "#                 res1.append(len(G[i]))\n",
    "            \n",
    "#                 print(\"There is peak {}\".format(G[i][j]))\n",
    "                    \n",
    "res1              \n",
    "        "
   ]
  },
  {
   "cell_type": "code",
   "execution_count": 315,
   "metadata": {},
   "outputs": [
    {
     "data": {
      "text/plain": [
       "[2, 2, 2, 2, 2, 3, 3, 3, 3, 4, 4, 4]"
      ]
     },
     "execution_count": 315,
     "metadata": {},
     "output_type": "execute_result"
    }
   ],
   "source": [
    "#Going to compare the last element of first nested list with the first element of the next nested list\n",
    "res1=[]\n",
    "for i in range(len(G)):\n",
    "    \n",
    "    for j in range(len(G[i])):\n",
    "        \n",
    "        for c in range(1, len(G[i][j])-1):\n",
    "#             print(G[i][j][c])\n",
    "            \n",
    "           \n",
    "            if (G[i][j][c] > G[i][j][c+1]) and (G[i][j][c] > G[i][j][c-1]):\n",
    "                res1.append(len(G[i]))\n",
    "            \n",
    "            elif (G[i][j][-1]> G[i+1][j][0]) and (G[i][j][-1]>G[i][j][-2]):\n",
    "                res1.append(len(G[i]))\n",
    "                \n",
    "#             ((G[i][j][-1])>(G[i+1][j][0]) and (G[i][j][-1])>(G[i][j][-2])):\n",
    "#                 res1.append(len(G[i]))\n",
    "            \n",
    "#                 print(\"There is peak {}\".format(G[i][j]))\n",
    "                    \n",
    "res1              \n",
    "        "
   ]
  },
  {
   "cell_type": "code",
   "execution_count": 208,
   "metadata": {
    "collapsed": true
   },
   "outputs": [],
   "source": [
    "G=[[[1, 3, 3, 1, 3, 6], [2, 4, 4, 2, 4, 2]],\n",
    " [[1, 4, 1, 4], [2, 3, 2, 6], [3, 4, 3, 2]],\n",
    " [[1, 3, 3], [2, 4, 4], [3, 1, 6], [4, 2, 2]],\n",
    " [[1, 1], [2, 2], [3, 3], [4, 4], [3, 6], [4, 2]]]\n"
   ]
  },
  {
   "cell_type": "code",
   "execution_count": 209,
   "metadata": {},
   "outputs": [
    {
     "name": "stdout",
     "output_type": "stream",
     "text": [
      "0\n",
      "[1, 3, 3, 1, 3, 6]\n",
      "[2, 4, 4, 2, 4, 2]\n",
      "1\n",
      "[1, 4, 1, 4]\n",
      "[2, 3, 2, 6]\n",
      "[3, 4, 3, 2]\n",
      "2\n",
      "[1, 3, 3]\n",
      "[2, 4, 4]\n",
      "[3, 1, 6]\n",
      "[4, 2, 2]\n",
      "3\n",
      "[1, 1]\n",
      "[2, 2]\n",
      "[3, 3]\n",
      "[4, 4]\n",
      "[3, 6]\n",
      "[4, 2]\n"
     ]
    }
   ],
   "source": [
    "for i in range(len(G)):\n",
    "    print(i)\n",
    "    for j in range(len(G[i])):\n",
    "        print(G[i][j])"
   ]
  },
  {
   "cell_type": "code",
   "execution_count": 222,
   "metadata": {},
   "outputs": [
    {
     "name": "stdout",
     "output_type": "stream",
     "text": [
      "2\n",
      "2\n",
      "2\n",
      "2\n",
      "2\n",
      "2\n",
      "2\n",
      "2\n",
      "2\n",
      "2\n",
      "3\n",
      "3\n",
      "3\n",
      "3\n",
      "3\n",
      "3\n",
      "3\n",
      "3\n",
      "3\n",
      "4\n",
      "4\n",
      "4\n",
      "4\n",
      "4\n",
      "4\n",
      "4\n",
      "4\n",
      "6\n",
      "6\n",
      "6\n",
      "6\n",
      "6\n",
      "6\n"
     ]
    }
   ],
   "source": [
    "for i in range(len(G)):\n",
    "    for j in range(len(G[i])):\n",
    "        for c in range(1, len(G[i][j])):\n",
    "            #print(G[i][j].index(G[i][j][-1]))\n",
    "            print(len(G[i]))\n",
    "        "
   ]
  },
  {
   "cell_type": "code",
   "execution_count": null,
   "metadata": {},
   "outputs": [],
   "source": []
  },
  {
   "cell_type": "code",
   "execution_count": null,
   "metadata": {
    "collapsed": true
   },
   "outputs": [],
   "source": []
  }
 ],
 "metadata": {
  "kernelspec": {
   "display_name": "Python [conda root]",
   "language": "python",
   "name": "conda-root-py"
  },
  "language_info": {
   "codemirror_mode": {
    "name": "ipython",
    "version": 3
   },
   "file_extension": ".py",
   "mimetype": "text/x-python",
   "name": "python",
   "nbconvert_exporter": "python",
   "pygments_lexer": "ipython3",
   "version": "3.5.4"
  }
 },
 "nbformat": 4,
 "nbformat_minor": 2
}
