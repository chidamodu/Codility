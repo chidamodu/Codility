{
 "cells": [
  {
   "cell_type": "code",
   "execution_count": 47,
   "metadata": {
    "scrolled": true
   },
   "outputs": [
    {
     "name": "stdout",
     "output_type": "stream",
     "text": [
      "[12, 8]\n",
      "[8, 1]\n",
      "[1, 5]\n",
      "[5, 2]\n",
      "[2, 10]\n"
     ]
    }
   ],
   "source": [
    "\n",
    "\n",
    "A=[10, 2, 5, 1, 8, 12]\n",
    "\n",
    "for i in range(len(A)-1):\n",
    "    print(A[::-1][i:i+2])\n",
    "    "
   ]
  },
  {
   "cell_type": "code",
   "execution_count": 117,
   "metadata": {},
   "outputs": [
    {
     "data": {
      "text/plain": [
       "[([[8, 10], 1], [[12, [8]], 1]),\n",
       " ([[8, 10], 2], [[12, [8]], 2]),\n",
       " ([[8, 10], 5], [[12, [8]], 5]),\n",
       " ([[10, 12], 1], [[12, [8]], 1]),\n",
       " ([[10, 12], 2], [[12, [8]], 2]),\n",
       " ([[10, 12], 5], [[12, [8]], 5]),\n",
       " ([[12], 1], [[12, [8]], 1]),\n",
       " ([[12], 2], [[12, [8]], 2]),\n",
       " ([[12], 5], [[12, [8]], 5])]"
      ]
     },
     "execution_count": 117,
     "metadata": {},
     "output_type": "execute_result"
    }
   ],
   "source": [
    "#Have a gut feeling it will work! have to work on it later\n",
    "A=[10, 2, 5, 1, 8, 12]\n",
    "A.sort()\n",
    "mid_len=int(len(A)/2)\n",
    "last_seg=A[mid_len:]\n",
    "first_seg=A[:mid_len]\n",
    "res=[]\n",
    "\n",
    "for item in range(0, len(last_seg)):\n",
    "    if item==last_seg.index(last_seg[-1]):\n",
    "        last_first=[last_seg[item], last_seg[:1]]\n",
    "#     print(last_seg[item:item+2])\n",
    "    for ele in range(0, len(first_seg)):\n",
    "#         print(last_seg[item:item+2])\n",
    "#         print((last_seg[item:item+2]).extend(first_seg[ele]))\n",
    "        \n",
    "        res.append((([last_seg[item:item+2], first_seg[ele]]), ([last_first, first_seg[ele]])))\n",
    "\n",
    "res        \n",
    "        \n",
    "#     print(last_seg[:item+2][::2])\n",
    "\n"
   ]
  },
  {
   "cell_type": "code",
   "execution_count": 39,
   "metadata": {},
   "outputs": [
    {
     "name": "stdout",
     "output_type": "stream",
     "text": [
      "[10, 2]\n",
      "[10, 2, 5, 1]\n",
      "[10, 2, 5, 1, 8, 12]\n",
      "[10, 2, 5, 1, 8, 12]\n"
     ]
    }
   ],
   "source": [
    "n=len(A)\n",
    "for j in range(n-2):\n",
    "    third=j+2\n",
    "    print(A[:j+third])"
   ]
  },
  {
   "cell_type": "code",
   "execution_count": 126,
   "metadata": {
    "collapsed": true
   },
   "outputs": [],
   "source": [
    "#this solution works!\n",
    "def solution(A):\n",
    "    n = len(A)\n",
    "    result = 0\n",
    "    A.sort()\n",
    "    for first in range(n-2):\n",
    "        third = first + 2\n",
    "        for second in range(first+1, n-1):\n",
    "            while third < n and A[first] + A[second] > A[third]:\n",
    "                third += 1\n",
    "            result += third - second - 1\n",
    "    return result"
   ]
  },
  {
   "cell_type": "code",
   "execution_count": 127,
   "metadata": {},
   "outputs": [
    {
     "data": {
      "text/plain": [
       "4"
      ]
     },
     "execution_count": 127,
     "metadata": {},
     "output_type": "execute_result"
    }
   ],
   "source": [
    "solution([10, 2, 5, 1, 8, 12])"
   ]
  }
 ],
 "metadata": {
  "kernelspec": {
   "display_name": "Python [conda root]",
   "language": "python",
   "name": "conda-root-py"
  },
  "language_info": {
   "codemirror_mode": {
    "name": "ipython",
    "version": 3
   },
   "file_extension": ".py",
   "mimetype": "text/x-python",
   "name": "python",
   "nbconvert_exporter": "python",
   "pygments_lexer": "ipython3",
   "version": "3.5.4"
  }
 },
 "nbformat": 4,
 "nbformat_minor": 2
}
