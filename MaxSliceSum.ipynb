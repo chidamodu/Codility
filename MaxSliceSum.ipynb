{
 "cells": [
  {
   "cell_type": "code",
   "execution_count": 76,
   "metadata": {},
   "outputs": [],
   "source": [
    "#This does not work for negative numbers in the given array. It scored only 15% on Codility\n",
    "def solution(A):\n",
    "    for i in range(len(A)):\n",
    "        for j in range(2, len(A)-2):             \n",
    "            if A[i] > sum(A[i:j]):\n",
    "                    max_sum=A[i]        \n",
    "            else:\n",
    "                max_sum=sum(A[i:j])\n",
    "                    \n",
    "    return max_sum\n",
    "    "
   ]
  },
  {
   "cell_type": "code",
   "execution_count": 77,
   "metadata": {},
   "outputs": [
    {
     "data": {
      "text/plain": [
       "0"
      ]
     },
     "execution_count": 77,
     "metadata": {},
     "output_type": "execute_result"
    }
   ],
   "source": [
    "solution([3,2,-6,4,0])"
   ]
  },
  {
   "cell_type": "code",
   "execution_count": 78,
   "metadata": {},
   "outputs": [],
   "source": [
    "#This solution works!\n",
    "def solution(A):\n",
    "    max_slice_ending_here = A[0]\n",
    "    max_slice = A[0]\n",
    "    for element in A[1:]:\n",
    "        max_slice_ending_here = max(element, max_slice_ending_here+element)\n",
    "        max_slice = max(max_slice, max_slice_ending_here)\n",
    "    return max_slice"
   ]
  },
  {
   "cell_type": "code",
   "execution_count": 79,
   "metadata": {},
   "outputs": [
    {
     "data": {
      "text/plain": [
       "5"
      ]
     },
     "execution_count": 79,
     "metadata": {},
     "output_type": "execute_result"
    }
   ],
   "source": [
    "solution([3,2,-6,4,0])"
   ]
  }
 ],
 "metadata": {
  "kernelspec": {
   "display_name": "Python [conda root]",
   "language": "python",
   "name": "conda-root-py"
  },
  "language_info": {
   "codemirror_mode": {
    "name": "ipython",
    "version": 3
   },
   "file_extension": ".py",
   "mimetype": "text/x-python",
   "name": "python",
   "nbconvert_exporter": "python",
   "pygments_lexer": "ipython3",
   "version": "3.5.4"
  }
 },
 "nbformat": 4,
 "nbformat_minor": 2
}
