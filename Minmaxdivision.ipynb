{
 "cells": [
  {
   "cell_type": "code",
   "execution_count": 1,
   "metadata": {
    "collapsed": true
   },
   "outputs": [],
   "source": [
    "#This solution works! But there is unnecessary confusion about the M value in the problem. Some say that it is not to be used\n",
    "#There is another info re M and that the solution can be found within the range: mean of A, M+mean. Got to try this problem again.\n",
    "def blockSizeIsValid(A, max_block_cnt, max_block_size):\n",
    "    block_sum = 0\n",
    "    block_cnt = 0\n",
    " \n",
    "    for element in A:\n",
    "        if block_sum + element > max_block_size:\n",
    "            block_sum = element\n",
    "            block_cnt += 1\n",
    "        else:\n",
    "            block_sum += element\n",
    "        if block_cnt >= max_block_cnt:\n",
    "            return False\n",
    " \n",
    "    return True\n",
    " \n",
    "def binarySearch(A, max_block_cnt, using_M_will_give_you_wrong_results):\n",
    "    lower_bound = max(A)\n",
    "    upper_bound = sum(A)\n",
    " \n",
    "    if max_block_cnt == 1:      return upper_bound\n",
    "    if max_block_cnt >= len(A): return lower_bound\n",
    " \n",
    "    while lower_bound <= upper_bound:\n",
    "        candidate_mid = (lower_bound + upper_bound) // 2\n",
    "        if blockSizeIsValid(A, max_block_cnt, candidate_mid):\n",
    "            upper_bound = candidate_mid - 1\n",
    "        else:\n",
    "            lower_bound = candidate_mid + 1\n",
    " \n",
    "    return lower_bound\n",
    " \n",
    "def solution(K, M, A):\n",
    "    return binarySearch(A,K,M)"
   ]
  },
  {
   "cell_type": "code",
   "execution_count": 2,
   "metadata": {},
   "outputs": [
    {
     "data": {
      "text/plain": [
       "6"
      ]
     },
     "execution_count": 2,
     "metadata": {},
     "output_type": "execute_result"
    }
   ],
   "source": [
    "solution(3, 5, [2,1,5,1,2,2,2])"
   ]
  },
  {
   "cell_type": "code",
   "execution_count": null,
   "metadata": {
    "collapsed": true
   },
   "outputs": [],
   "source": []
  }
 ],
 "metadata": {
  "kernelspec": {
   "display_name": "Python [conda root]",
   "language": "python",
   "name": "conda-root-py"
  },
  "language_info": {
   "codemirror_mode": {
    "name": "ipython",
    "version": 3
   },
   "file_extension": ".py",
   "mimetype": "text/x-python",
   "name": "python",
   "nbconvert_exporter": "python",
   "pygments_lexer": "ipython3",
   "version": "3.5.4"
  }
 },
 "nbformat": 4,
 "nbformat_minor": 2
}
