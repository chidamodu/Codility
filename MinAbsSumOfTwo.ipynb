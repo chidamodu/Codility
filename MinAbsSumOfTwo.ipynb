{
 "cells": [
  {
   "cell_type": "code",
   "execution_count": 3,
   "metadata": {
    "collapsed": true
   },
   "outputs": [],
   "source": [
    "s=set((1, -1))"
   ]
  },
  {
   "cell_type": "code",
   "execution_count": 6,
   "metadata": {
    "scrolled": true
   },
   "outputs": [
    {
     "data": {
      "text/plain": [
       "[{-1, 1},\n",
       " {-1, 1},\n",
       " {-1, 1},\n",
       " {-1, 1},\n",
       " {-1, 1},\n",
       " {-1, 1},\n",
       " {-1, 1},\n",
       " {-1, 1},\n",
       " {-1, 1},\n",
       " {-1, 1}]"
      ]
     },
     "execution_count": 6,
     "metadata": {},
     "output_type": "execute_result"
    }
   ],
   "source": [
    "[s]*10"
   ]
  },
  {
   "cell_type": "code",
   "execution_count": 8,
   "metadata": {},
   "outputs": [
    {
     "data": {
      "text/plain": [
       "[1, -1, 1, -1, 1, -1, 1, -1, 1, -1, 1, -1, 1, -1, 1, -1, 1, -1, 1, -1]"
      ]
     },
     "execution_count": 8,
     "metadata": {},
     "output_type": "execute_result"
    }
   ],
   "source": [
    "[1,-1]*10"
   ]
  },
  {
   "cell_type": "code",
   "execution_count": 9,
   "metadata": {
    "collapsed": true
   },
   "outputs": [],
   "source": [
    "\n",
    "# pseudo:\n",
    "# first create another array s deriving values from the set(-1, 1)\n",
    "# create an array with a set of values (-1, 1) by multiplying with the length of the input array\n",
    "# calculate the sum by multiplying every corresponding element in the input array and the newly created array and find the absolute\n",
    "# value of the sum\n",
    "\n",
    "\n",
    "\n",
    "def solution(A):\n",
    "    result=0\n",
    "    s=[-1,1]*len(A)\n",
    "    for i in range(len(A)):\n",
    "        result+=(A[i]*s[i])        \n",
    "    return abs(result)\n",
    "        \n",
    "    \n",
    "    \n",
    "    \n",
    "    "
   ]
  },
  {
   "cell_type": "code",
   "execution_count": 10,
   "metadata": {
    "scrolled": true
   },
   "outputs": [
    {
     "data": {
      "text/plain": [
       "0"
      ]
     },
     "execution_count": 10,
     "metadata": {},
     "output_type": "execute_result"
    }
   ],
   "source": [
    "solution([1,5,2,-2])"
   ]
  },
  {
   "cell_type": "code",
   "execution_count": null,
   "metadata": {
    "collapsed": true
   },
   "outputs": [],
   "source": [
    "A[0] = -8\n",
    "  A[1] =  4\n",
    "  A[2] =  5\n",
    "  A[3] =-10\n",
    "  A[4] =  3"
   ]
  },
  {
   "cell_type": "code",
   "execution_count": 23,
   "metadata": {
    "collapsed": true
   },
   "outputs": [],
   "source": [
    "#kandane's algorithm\n",
    "def max_subarray(A):\n",
    "    max_ending_here = max_so_far = abs(A[0])\n",
    "    for x in A[1:]:\n",
    "        max_ending_here = min(abs(x+x), abs(max_ending_here + x))\n",
    "        max_so_far = min(max_so_far, max_ending_here)\n",
    "    return max_so_far"
   ]
  },
  {
   "cell_type": "code",
   "execution_count": 24,
   "metadata": {},
   "outputs": [
    {
     "data": {
      "text/plain": [
       "0"
      ]
     },
     "execution_count": 24,
     "metadata": {},
     "output_type": "execute_result"
    }
   ],
   "source": [
    "max_subarray([-8,4,5,-10,3])"
   ]
  },
  {
   "cell_type": "code",
   "execution_count": 30,
   "metadata": {},
   "outputs": [
    {
     "name": "stdout",
     "output_type": "stream",
     "text": [
      "[3, 4, 5, -8, -10]\n"
     ]
    }
   ],
   "source": [
    "A=[-8,4,5,-10,3]\n",
    "print(sorted(A, key=abs))\n"
   ]
  },
  {
   "cell_type": "code",
   "execution_count": 35,
   "metadata": {
    "collapsed": true
   },
   "outputs": [],
   "source": [
    "#This solution does not work!\n",
    "def min_sum(A):\n",
    "    A.sort()\n",
    "    m=max(A)\n",
    "    i=0\n",
    "    j=len(A)-1\n",
    "    while i <= j:\n",
    "        tmp=A[i]+A[j]\n",
    "        m=min(m, abs(tmp))\n",
    "        if tmp <= 0:\n",
    "            i+=1\n",
    "        else:\n",
    "            j-=1\n",
    "    return m"
   ]
  },
  {
   "cell_type": "code",
   "execution_count": 36,
   "metadata": {
    "scrolled": true
   },
   "outputs": [
    {
     "name": "stdout",
     "output_type": "stream",
     "text": [
      "[-8, 4, 5, -10, 3]\n",
      "[-10, -8, 3, 4, 5]\n"
     ]
    },
    {
     "data": {
      "text/plain": [
       "3"
      ]
     },
     "execution_count": 36,
     "metadata": {},
     "output_type": "execute_result"
    }
   ],
   "source": [
    "min_sum([-8,4,5,-10,3])"
   ]
  },
  {
   "cell_type": "code",
   "execution_count": 68,
   "metadata": {},
   "outputs": [],
   "source": [
    "#This solution gets 100% on codility\n",
    "def solution(A):\n",
    "    \n",
    "    if len(A)==0:\n",
    "        return 0\n",
    "    \n",
    "    else:\n",
    "        \n",
    "        front=0\n",
    "        back=len(A)-1\n",
    "        A.sort()\n",
    "    \n",
    "        if A[-1]<=0:\n",
    "            return(abs(A[-1]+A[-1]))\n",
    "        \n",
    "        elif A[0]>=0:\n",
    "            min_sum=abs(A[0]+A[0])\n",
    "        \n",
    "        min_sum=A[-1]+A[-1]\n",
    "        \n",
    "        while front<=back:\n",
    "            tmp=abs(A[front]+A[back])\n",
    "            if tmp < min_sum:\n",
    "                min_sum=tmp\n",
    "        \n",
    "            if abs(A[front]+A[back-1]) <= tmp:\n",
    "                tmp=abs(A[front]+A[back-1])\n",
    "                back-=1\n",
    "            elif abs(A[front+1]+A[back]) <= tmp:\n",
    "                tmp=abs(A[front+1]+A[back])\n",
    "                front+=1\n",
    "            else:\n",
    "                front+=1\n",
    "                back-=1\n",
    "                       \n",
    "    return min_sum\n",
    "            "
   ]
  },
  {
   "cell_type": "code",
   "execution_count": 69,
   "metadata": {},
   "outputs": [
    {
     "data": {
      "text/plain": [
       "3"
      ]
     },
     "execution_count": 69,
     "metadata": {},
     "output_type": "execute_result"
    }
   ],
   "source": [
    "solution([-8,4,5,-10,3])"
   ]
  },
  {
   "cell_type": "code",
   "execution_count": null,
   "metadata": {
    "collapsed": true
   },
   "outputs": [],
   "source": []
  },
  {
   "cell_type": "code",
   "execution_count": null,
   "metadata": {
    "collapsed": true
   },
   "outputs": [],
   "source": []
  }
 ],
 "metadata": {
  "kernelspec": {
   "display_name": "Python [conda root]",
   "language": "python",
   "name": "conda-root-py"
  },
  "language_info": {
   "codemirror_mode": {
    "name": "ipython",
    "version": 3
   },
   "file_extension": ".py",
   "mimetype": "text/x-python",
   "name": "python",
   "nbconvert_exporter": "python",
   "pygments_lexer": "ipython3",
   "version": "3.5.4"
  }
 },
 "nbformat": 4,
 "nbformat_minor": 2
}
