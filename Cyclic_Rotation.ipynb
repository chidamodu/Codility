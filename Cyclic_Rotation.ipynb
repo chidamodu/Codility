{
 "cells": [
  {
   "cell_type": "code",
   "execution_count": 50,
   "metadata": {},
   "outputs": [],
   "source": [
    "# CyclicRotation\n",
    "# For the question: why do we have to divide k by len(A):to To make sure K is in the range of valid index (between 0 and len(A) – 1).\n",
    "#     The original question is rotation, so if we increase or decrease K by len(A), the result is totally the same.\n",
    "\n",
    "# Received this error when run the program without dividing k by len(A)\n",
    "# For example, for the input ([1, 1, 2, 3, 5], 42) the solution returned a wrong answer (got [1, 1, 2, 3, 5] expected [3, 5, 1, 1, 2]).\n",
    "\n",
    "def solution(A, k):\n",
    "    if len(A)==0:\n",
    "        return A\n",
    "    else:\n",
    "        return A[(-k % len(A)):] + A[:-k % len(A)]\n"
   ]
  },
  {
   "cell_type": "code",
   "execution_count": 51,
   "metadata": {},
   "outputs": [
    {
     "data": {
      "text/plain": [
       "[3, 5, 1, 1, 2]"
      ]
     },
     "execution_count": 51,
     "metadata": {},
     "output_type": "execute_result"
    }
   ],
   "source": [
    "solution([1, 1, 2, 3, 5], 42)"
   ]
  },
  {
   "cell_type": "code",
   "execution_count": null,
   "metadata": {
    "collapsed": true
   },
   "outputs": [],
   "source": []
  }
 ],
 "metadata": {
  "kernelspec": {
   "display_name": "Python [conda root]",
   "language": "python",
   "name": "conda-root-py"
  },
  "language_info": {
   "codemirror_mode": {
    "name": "ipython",
    "version": 3
   },
   "file_extension": ".py",
   "mimetype": "text/x-python",
   "name": "python",
   "nbconvert_exporter": "python",
   "pygments_lexer": "ipython3",
   "version": "3.5.4"
  }
 },
 "nbformat": 4,
 "nbformat_minor": 2
}
