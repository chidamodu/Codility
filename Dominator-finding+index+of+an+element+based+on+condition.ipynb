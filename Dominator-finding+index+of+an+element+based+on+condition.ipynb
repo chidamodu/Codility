{
 "cells": [
  {
   "cell_type": "code",
   "execution_count": 200,
   "metadata": {
    "collapsed": true
   },
   "outputs": [],
   "source": [
    "#This solution gave only 66% there were a lot of issues with performance as I initially had iterated the dictionary and within\n",
    "#the loop had code to find the max of d.values. So it gave a time complexity issue because of O(N^2)\n",
    "def solution(A):\n",
    "    d={}\n",
    "    res=[]\n",
    "    dominate_size=int(len(A)/2)\n",
    "    max_value=1\n",
    "    max_key=-1\n",
    "       \n",
    "    if len(A)<1:\n",
    "        return -1\n",
    "    \n",
    "    else:\n",
    "        for item in range(len(A)):\n",
    "            d[A[item]]=d.get(A[item], 0)+1             \n",
    "\n",
    "    for k, v in d.items():\n",
    "        if v>max_value:\n",
    "            max_value=v\n",
    "            max_key=k\n",
    "            print(max_value)\n",
    "        else:\n",
    "            max_value, max_key=-1, -1\n",
    "            \n",
    "    if max_value>dominate_size:\n",
    "        return A.index(max_key)\n",
    "    \n",
    "    return max_key\n",
    "            \n",
    "#         max_value=max(d.values())\n",
    "#         max_key=k\n",
    "        \n",
    "#     if max_value > dominate_size:\n",
    "#         return A.index(max_key)\n",
    "#     else:\n",
    "#         return -1\n"
   ]
  },
  {
   "cell_type": "code",
   "execution_count": 201,
   "metadata": {},
   "outputs": [
    {
     "name": "stdout",
     "output_type": "stream",
     "text": [
      "5\n",
      "1\n"
     ]
    },
    {
     "data": {
      "text/plain": [
       "-1"
      ]
     },
     "execution_count": 201,
     "metadata": {},
     "output_type": "execute_result"
    }
   ],
   "source": [
    "solution([3, 4, 3, 2, 3, -1, 3, 3])"
   ]
  },
  {
   "cell_type": "code",
   "execution_count": 203,
   "metadata": {},
   "outputs": [
    {
     "data": {
      "text/plain": [
       "4.0"
      ]
     },
     "execution_count": 203,
     "metadata": {},
     "output_type": "execute_result"
    }
   ],
   "source": [
    "A=[3, 4, 3, 2, 3, -1, 3, 3]\n",
    "len(A)/2"
   ]
  },
  {
   "cell_type": "code",
   "execution_count": 234,
   "metadata": {
    "collapsed": true
   },
   "outputs": [],
   "source": [
    "An alternative that I took from website: https://codesays.com/2014/solution-to-dominator-by-codility/\n",
    "def solution(A):\n",
    "    size = len(A) // 2\n",
    "    d = dict()\n",
    "    for i in range(len(A)):\n",
    "        n = A[i]\n",
    "        d.setdefault(n, [i, 0])\n",
    "        d[n][1] += 1\n",
    "    \n",
    "   \n",
    "        if d[n][1] > size:\n",
    "            return d[n][0]\n",
    "    return -1"
   ]
  },
  {
   "cell_type": "code",
   "execution_count": 235,
   "metadata": {},
   "outputs": [
    {
     "data": {
      "text/plain": [
       "0"
      ]
     },
     "execution_count": 235,
     "metadata": {},
     "output_type": "execute_result"
    }
   ],
   "source": [
    "solution([3, 4, 3, 2, 3, -1, 3, 3])"
   ]
  },
  {
   "cell_type": "code",
   "execution_count": 232,
   "metadata": {
    "collapsed": true
   },
   "outputs": [],
   "source": [
    "#This solution works\n",
    "def solution(A):\n",
    "    from collections import defaultdict\n",
    "    d = defaultdict(list)\n",
    "    size=int(len(A)/2)\n",
    "    for i in range(len(A)):\n",
    "        d[A[i]]+=([i, 0])\n",
    "        d[A[i]][1]+=1\n",
    "        if d[A[i]][1] > size:\n",
    "            return d[A[i]][0]\n",
    "    return -1\n",
    "            \n",
    "        \n",
    "    "
   ]
  },
  {
   "cell_type": "code",
   "execution_count": 233,
   "metadata": {},
   "outputs": [
    {
     "data": {
      "text/plain": [
       "0"
      ]
     },
     "execution_count": 233,
     "metadata": {},
     "output_type": "execute_result"
    }
   ],
   "source": [
    "solution([3, 4, 3, 2, 3, -1, 3, 3])"
   ]
  }
 ],
 "metadata": {
  "kernelspec": {
   "display_name": "Python [conda root]",
   "language": "python",
   "name": "conda-root-py"
  },
  "language_info": {
   "codemirror_mode": {
    "name": "ipython",
    "version": 3
   },
   "file_extension": ".py",
   "mimetype": "text/x-python",
   "name": "python",
   "nbconvert_exporter": "python",
   "pygments_lexer": "ipython3",
   "version": "3.5.4"
  }
 },
 "nbformat": 4,
 "nbformat_minor": 2
}
