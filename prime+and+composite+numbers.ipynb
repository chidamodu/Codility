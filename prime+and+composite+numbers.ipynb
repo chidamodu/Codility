{
 "cells": [
  {
   "cell_type": "code",
   "execution_count": null,
   "metadata": {
    "collapsed": true
   },
   "outputs": [],
   "source": [
    "pseudo:\n",
    "tasks:\n",
    "    1.find the peaks from the array of integers\n",
    "    2.count the max number of flags that can be placed and return the max number that is possible\n",
    "\n",
    "1.find the peaks from the array of integers\n",
    "current, previous, next - set three counters (but the trick is to understand to set the same variable so it would be easy to update that variable)\n",
    "start from the second position, i.e., from index 1\n",
    "you have to loop through and figure out number at current_index is both greater than that at the previous_index and that at the next_index\n",
    "return the number of peaks\n",
    "\n",
    "\n",
    "2.count the max number of flags that can be placed and return the max number that is possible\n",
    "The basic understanding is that you can only pick number of flags that are fewer than or equal to the number of peaks.\n",
    "meaning: if you have 4 peaks you can only place max 4 flags or fewer\n",
    "condition: have to place one flag at every peak point\n",
    "\n"
   ]
  },
  {
   "cell_type": "code",
   "execution_count": 35,
   "metadata": {
    "collapsed": true
   },
   "outputs": [],
   "source": [
    "#task:1\n",
    "def solution1(A):\n",
    "    peak=[]\n",
    "    for ind in range(1, len(A)-1):\n",
    "        current=ind\n",
    "        previous=ind-1\n",
    "        next_ind=ind+1\n",
    "        if A[current] > A[previous] and A[current] > A[next_ind]:\n",
    "            peak.append(current)\n",
    "            ind+=1\n",
    "            \n",
    "    d=[]        \n",
    "    for flag in range(2, len(peak)+1):\n",
    "        print(flag)        \n",
    "        for ind_peak in range(len(peak)-1):\n",
    "            if (abs(peak[ind_peak]-peak[ind_peak+1])) >= flag:\n",
    "                break\n",
    "            else:\n",
    "                ind_peak+=1\n",
    "                \n",
    "#             if d >= flag:\n",
    "        \n",
    "    \n",
    "    \n",
    "#     return d\n",
    "                \n",
    "            \n",
    "            \n",
    "            \n",
    "            \n",
    "        "
   ]
  },
  {
   "cell_type": "code",
   "execution_count": 48,
   "metadata": {
    "collapsed": true
   },
   "outputs": [],
   "source": [
    "#task:1\n",
    "def solution1(A):\n",
    "    max_flag=[]\n",
    "    peak=[]\n",
    "    for ind in range(1, len(A)-1):\n",
    "        current=ind\n",
    "        previous=ind-1\n",
    "        next_ind=ind+1\n",
    "        if A[current] > A[previous] and A[current] > A[next_ind]:\n",
    "            peak.append(current)\n",
    "            ind+=1\n",
    "                        \n",
    "    for flag in range(len(peak), 1, -1):\n",
    "        for ind_peak in range((flag)-1, -1, -1):\n",
    "            if (abs(peak[ind_peak]-peak[ind_peak-1])) >= flag:\n",
    "                flag-=1                \n",
    "    \n",
    "            else:\n",
    "                if (abs(peak[ind_peak]-peak[ind_peak-2])) >= flag or (abs(peak[ind_peak-1]-peak[ind_peak+1])) >=flag:\n",
    "                    flag-=1\n",
    "                    ind_peak-=1\n",
    "                \n",
    "                \n",
    "        max_flag.append(flag)\n",
    "    \n",
    "    return max_flag\n",
    "                    \n",
    "            \n",
    "        \n",
    "            \n",
    "       \n",
    "        \n",
    "        \n",
    "        \n",
    "        "
   ]
  },
  {
   "cell_type": "code",
   "execution_count": 49,
   "metadata": {},
   "outputs": [
    {
     "data": {
      "text/plain": [
       "[0, 0, 0]"
      ]
     },
     "execution_count": 49,
     "metadata": {},
     "output_type": "execute_result"
    }
   ],
   "source": [
    "solution1([1,5,3,4,3,4,1,2,3,4,6,2])"
   ]
  },
  {
   "cell_type": "code",
   "execution_count": 26,
   "metadata": {},
   "outputs": [
    {
     "name": "stdout",
     "output_type": "stream",
     "text": [
      "10\n",
      "5\n",
      "3\n",
      "1\n"
     ]
    }
   ],
   "source": [
    "g=[1, 3, 5, 10]\n",
    "for i in g[::-1]:\n",
    "    print(i)"
   ]
  },
  {
   "cell_type": "code",
   "execution_count": 50,
   "metadata": {},
   "outputs": [
    {
     "name": "stdout",
     "output_type": "stream",
     "text": [
      "2\n",
      "1\n",
      "0\n"
     ]
    }
   ],
   "source": [
    "g=[1, 3, 5]\n",
    "for i in range(len(g)-1, -1, -1):\n",
    "    print(i)"
   ]
  },
  {
   "cell_type": "code",
   "execution_count": 59,
   "metadata": {
    "collapsed": true
   },
   "outputs": [],
   "source": [
    "#Trying the second part on Nov 10\n",
    "def solution1(A):\n",
    "    max_flag=[]\n",
    "    count_flag=0\n",
    "    f=1\n",
    "    peak=[]\n",
    "    \n",
    "    for ind in range(1, len(A)-1):\n",
    "        current=ind\n",
    "        previous=ind-1\n",
    "        next_ind=ind+1\n",
    "        if A[current] > A[previous] and A[current] > A[next_ind]:\n",
    "            peak.append(current)\n",
    "            ind+=1\n",
    "    \n",
    "    \n",
    "    if len(peak)==1:\n",
    "        count_flag+=1\n",
    "        \n",
    "        \n",
    "    elif len(peak)==0:\n",
    "        count_flag=0\n",
    "        \n",
    "    else:\n",
    "        for p in range(1, len(peak)):\n",
    "            print(\"hello\")\n",
    "            if p==1:\n",
    "                count_flag+=1\n",
    "                print(count_flag)\n",
    "                f+=1\n",
    "            else:     \n",
    "                if abs(peak[p]-peak[p-1]) >= f:\n",
    "                    count_flag+=1\n",
    "                    f+=1\n",
    "                else:\n",
    "                   \n",
    "                    if abs(peak[p+1]-peak[p]) >= f:\n",
    "                        count_flag+=1\n",
    "                        f+=1\n",
    "                   \n",
    "    return count_flag             \n",
    "                    \n",
    "                    \n",
    "            \n",
    "            "
   ]
  },
  {
   "cell_type": "code",
   "execution_count": 1,
   "metadata": {},
   "outputs": [
    {
     "data": {
      "text/plain": [
       "[-1, -1, -1, -1, -1, -1, -1, -1, -1, -1, -1, -1, -1, -1, -1, -1, -1]"
      ]
     },
     "execution_count": 1,
     "metadata": {},
     "output_type": "execute_result"
    }
   ],
   "source": [
    "A=[1,5,3,4,3,4,1,2,3,4,6,2,1,4,2,5,2]\n",
    "[-1]*len(A)"
   ]
  },
  {
   "cell_type": "code",
   "execution_count": 11,
   "metadata": {},
   "outputs": [
    {
     "name": "stdout",
     "output_type": "stream",
     "text": [
      "15\n",
      "14\n",
      "13\n",
      "12\n",
      "11\n",
      "10\n",
      "9\n",
      "8\n",
      "7\n",
      "6\n",
      "5\n",
      "4\n",
      "3\n",
      "2\n",
      "1\n"
     ]
    }
   ],
   "source": [
    "\n",
    "for indf in range(len(A)-2, 0, -1):\n",
    "    print(indf)"
   ]
  },
  {
   "cell_type": "code",
   "execution_count": 23,
   "metadata": {},
   "outputs": [],
   "source": [
    "def solution(A):\n",
    "    from math import sqrt\n",
    "    A_len = len(A)\n",
    "    next_peak = [-1] * A_len\n",
    "    peaks_count = 0\n",
    "    first_peak = -1\n",
    "    # Generate the information, where the next peak is.\n",
    "    for index in range(A_len-2, 0, -1):\n",
    "        if A[index] > A[index+1] and A[index] > A[index-1]:\n",
    "            next_peak[index] = index\n",
    "            peaks_count += 1\n",
    "            first_peak = index\n",
    "        else:\n",
    "            next_peak[index] = next_peak[index+1]\n",
    "    return first_peak, next_peak"
   ]
  },
  {
   "cell_type": "code",
   "execution_count": 24,
   "metadata": {},
   "outputs": [
    {
     "data": {
      "text/plain": [
       "(1, [-1, 1, 3, 3, 5, 5, 10, 10, 10, 10, 10, 13, 13, 13, 15, 15, -1])"
      ]
     },
     "execution_count": 24,
     "metadata": {},
     "output_type": "execute_result"
    }
   ],
   "source": [
    "solution([1,5,3,4,3,4,1,2,3,4,6,2,1,4,2,5,2])"
   ]
  },
  {
   "cell_type": "code",
   "execution_count": 17,
   "metadata": {},
   "outputs": [
    {
     "data": {
      "text/plain": [
       "4"
      ]
     },
     "execution_count": 17,
     "metadata": {},
     "output_type": "execute_result"
    }
   ],
   "source": [
    "from math import sqrt\n",
    "int(sqrt(len(A)))"
   ]
  },
  {
   "cell_type": "code",
   "execution_count": 18,
   "metadata": {},
   "outputs": [
    {
     "name": "stdout",
     "output_type": "stream",
     "text": [
      "5\n",
      "4\n",
      "3\n",
      "2\n"
     ]
    }
   ],
   "source": [
    "for min_distance in range(4 + 1, 1, -1):\n",
    "    print(min_distance)"
   ]
  },
  {
   "cell_type": "code",
   "execution_count": 29,
   "metadata": {
    "collapsed": true
   },
   "outputs": [],
   "source": [
    "def create_peaks(A):\n",
    "    N = len(A)\n",
    "    peaks = [False] * N\n",
    "    for i in range(1, N - 1):\n",
    "        if A[i] > max(A[i - 1], A[i + 1]): peaks[i] = True\n",
    "    return peaks"
   ]
  },
  {
   "cell_type": "code",
   "execution_count": 30,
   "metadata": {},
   "outputs": [
    {
     "data": {
      "text/plain": [
       "[False,\n",
       " True,\n",
       " False,\n",
       " True,\n",
       " False,\n",
       " True,\n",
       " False,\n",
       " False,\n",
       " False,\n",
       " False,\n",
       " True,\n",
       " False,\n",
       " False,\n",
       " True,\n",
       " False,\n",
       " True,\n",
       " False]"
      ]
     },
     "execution_count": 30,
     "metadata": {},
     "output_type": "execute_result"
    }
   ],
   "source": [
    "create_peaks([1,5,3,4,3,4,1,2,3,4,6,2,1,4,2,5,2])"
   ]
  },
  {
   "cell_type": "code",
   "execution_count": 39,
   "metadata": {},
   "outputs": [],
   "source": [
    "def next_peak(A):\n",
    "    N = len(A)\n",
    "    peaks = create_peaks(A)\n",
    "    next=[0]*N\n",
    "    next[N-1]=-1\n",
    "    for i in range(N - 2, -1, -1):\n",
    "        if peaks[i]:\n",
    "            next[i] = i\n",
    "        else:\n",
    "            next[i] = next[i + 1]\n",
    "    return next\n",
    "\n",
    "\n",
    "def flags(A):\n",
    "    N = len(A)\n",
    "    next = next_peak(A)\n",
    "    i=1\n",
    "    result = 0 \n",
    "    while(i-1)*i<=N:\n",
    "        pos = 0\n",
    "        num = 0\n",
    "        while pos < N and num < i:\n",
    "            pos = next[pos]\n",
    "            if pos == -1:\n",
    "                break\n",
    "            num +=1\n",
    "            pos +=i\n",
    "        result = max(result, num)\n",
    "        i += 1\n",
    "    return result"
   ]
  },
  {
   "cell_type": "code",
   "execution_count": 40,
   "metadata": {},
   "outputs": [
    {
     "data": {
      "text/plain": [
       "4"
      ]
     },
     "execution_count": 40,
     "metadata": {},
     "output_type": "execute_result"
    }
   ],
   "source": [
    "flags([1,5,3,4,3,4,1,2,3,4,6,2,1,4,2,5,2])"
   ]
  },
  {
   "cell_type": "code",
   "execution_count": 53,
   "metadata": {
    "collapsed": true
   },
   "outputs": [],
   "source": [
    "def next_peak(A):\n",
    "    N = len(A)\n",
    "    peaks = create_peaks(A)\n",
    "    print(peaks)\n",
    "    next=[0]*N\n",
    "    \n",
    "    next[N-1]=-1\n",
    "    #print(next)\n",
    "    for i in range(N - 2, -1, -1):\n",
    "        print(i)\n",
    "        if peaks[i]:\n",
    "            next[i] = i\n",
    "        else:\n",
    "            next[i] = next[i + 1]\n",
    "    return next\n",
    "\n"
   ]
  },
  {
   "cell_type": "code",
   "execution_count": 54,
   "metadata": {},
   "outputs": [
    {
     "name": "stdout",
     "output_type": "stream",
     "text": [
      "[False, True, False, True, False, True, False, False, False, False, True, False, False, True, False, True, False]\n",
      "15\n",
      "14\n",
      "13\n",
      "12\n",
      "11\n",
      "10\n",
      "9\n",
      "8\n",
      "7\n",
      "6\n",
      "5\n",
      "4\n",
      "3\n",
      "2\n",
      "1\n",
      "0\n"
     ]
    },
    {
     "data": {
      "text/plain": [
       "[1, 1, 3, 3, 5, 5, 10, 10, 10, 10, 10, 13, 13, 13, 15, 15, -1]"
      ]
     },
     "execution_count": 54,
     "metadata": {},
     "output_type": "execute_result"
    }
   ],
   "source": [
    "next_peak([1,5,3,4,3,4,1,2,3,4,6,2,1,4,2,5,2])"
   ]
  },
  {
   "cell_type": "code",
   "execution_count": 61,
   "metadata": {
    "collapsed": true
   },
   "outputs": [],
   "source": [
    "#This one is another alternative solution to the same problem\n",
    "def solution_alt(A):\n",
    "    N = len(A)\n",
    "    peaks = []\n",
    "    for i in range(1, N-1):\n",
    "        if A[i] > A[i-1] and A[i] > A[i+1]:\n",
    "            peaks.append(i)\n",
    "    if len(peaks) == 0:\n",
    "        return 0\n",
    "    # the distance for k flags requires k(k-1) distance between first and last flag\n",
    "    max_flags_possible = len(peaks)\n",
    "    while max_flags_possible * (max_flags_possible - 1) > (peaks[-1] - peaks[0]):\n",
    "        max_flags_possible -=1\n",
    "    for k in range(max_flags_possible, 0, -1):\n",
    "        flags_set = 1\n",
    "        distance = 0\n",
    "        for i in range(1, len(peaks)):\n",
    "            distance += abs(peaks[i-1] - peaks[i])\n",
    "            if distance >= k:\n",
    "                flags_set += 1\n",
    "                distance = 0\n",
    "        if flags_set >= k:\n",
    "            return k\n",
    "    return 0"
   ]
  },
  {
   "cell_type": "code",
   "execution_count": 62,
   "metadata": {},
   "outputs": [
    {
     "data": {
      "text/plain": [
       "4"
      ]
     },
     "execution_count": 62,
     "metadata": {},
     "output_type": "execute_result"
    }
   ],
   "source": [
    "solution_alt([1,5,3,4,3,4,1,2,3,4,6,2,1,4,2,5,2])"
   ]
  },
  {
   "cell_type": "code",
   "execution_count": null,
   "metadata": {
    "collapsed": true
   },
   "outputs": [],
   "source": [
    "#This solution rocks and this is what I submitted to Codility platform\n",
    "    \n",
    "def solution(A):\n",
    "    from math import sqrt\n",
    "    A_len = len(A)\n",
    "    next_peak = [-1] * A_len\n",
    "    peaks_count = 0\n",
    "    first_peak = -1\n",
    "    # Generate the information, where the next peak is.\n",
    "    for index in range(A_len-2, 0, -1):\n",
    "        if A[index] > A[index+1] and A[index] > A[index-1]:\n",
    "            next_peak[index] = index\n",
    "            peaks_count += 1\n",
    "            first_peak = index\n",
    "        else:\n",
    "            next_peak[index] = next_peak[index+1]\n",
    "    if peaks_count < 2:\n",
    "        # There is no peak or only one.\n",
    "        return peaks_count\n",
    "    max_flags = 1\n",
    "    max_min_distance = int(sqrt(A_len))\n",
    "    for min_distance in range(max_min_distance + 1, 1, -1):\n",
    "        # Try for every possible distance.\n",
    "        flags_used = 1\n",
    "        flags_have = min_distance-1 # Use one flag at the first peak\n",
    "        pos = first_peak\n",
    "        while flags_have > 0:\n",
    "            if pos + min_distance >= A_len-1:\n",
    "                # Reach or beyond the end of the array\n",
    "                break\n",
    "            pos = next_peak[pos+min_distance]\n",
    "            if pos == -1:\n",
    "                # No peak available afterward\n",
    "                break\n",
    "            flags_used += 1\n",
    "            flags_have -= 1\n",
    "        max_flags = max(max_flags, flags_used)\n",
    "    return max_flags"
   ]
  }
 ],
 "metadata": {
  "kernelspec": {
   "display_name": "Python [conda root]",
   "language": "python",
   "name": "conda-root-py"
  },
  "language_info": {
   "codemirror_mode": {
    "name": "ipython",
    "version": 3
   },
   "file_extension": ".py",
   "mimetype": "text/x-python",
   "name": "python",
   "nbconvert_exporter": "python",
   "pygments_lexer": "ipython3",
   "version": "3.5.4"
  }
 },
 "nbformat": 4,
 "nbformat_minor": 2
}
