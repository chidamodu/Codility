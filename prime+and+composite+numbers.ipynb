{
 "cells": [
  {
   "cell_type": "code",
   "execution_count": null,
   "metadata": {
    "collapsed": true
   },
   "outputs": [],
   "source": [
    "A non-empty array A consisting of N integers is given.\n",
    "\n",
    "A peak is an array element which is larger than its neighbours. More precisely, it is an index P such that 0 < P < N − 1 and A[P − 1] < A[P] > A[P + 1].\n",
    "\n",
    "For example, the following array A:\n",
    "\n",
    "    A[0] = 1\n",
    "    A[1] = 5\n",
    "    A[2] = 3\n",
    "    A[3] = 4\n",
    "    A[4] = 3\n",
    "    A[5] = 4\n",
    "    A[6] = 1\n",
    "    A[7] = 2\n",
    "    A[8] = 3\n",
    "    A[9] = 4\n",
    "    A[10] = 6\n",
    "    A[11] = 2\n",
    "has exactly four peaks: elements 1, 3, 5 and 10.\n",
    "\n",
    "You are going on a trip to a range of mountains whose relative heights are represented by array A, as shown in a figure below. You have to choose how many flags you should take with you. The goal is to set the maximum number of flags on the peaks, according to certain rules.\n",
    "\n",
    "\n",
    "\n",
    "Flags can only be set on peaks. What's more, if you take K flags, then the distance between any two flags should be greater than or equal to K. The distance between indices P and Q is the absolute value |P − Q|.\n",
    "\n",
    "For example, given the mountain range represented by array A, above, with N = 12, if you take:\n",
    "\n",
    "two flags, you can set them on peaks 1 and 5;\n",
    "three flags, you can set them on peaks 1, 5 and 10;\n",
    "four flags, you can set only three flags, on peaks 1, 5 and 10.\n",
    "You can therefore set a maximum of three flags in this case.\n",
    "\n",
    "Write a function:\n",
    "\n",
    "def solution(A)\n",
    "that, given a non-empty array A of N integers, returns the maximum number of flags that can be set on the peaks of the array.\n",
    "\n",
    "For example, the following array A:\n",
    "\n",
    "    A[0] = 1\n",
    "    A[1] = 5\n",
    "    A[2] = 3\n",
    "    A[3] = 4\n",
    "    A[4] = 3\n",
    "    A[5] = 4\n",
    "    A[6] = 1\n",
    "    A[7] = 2\n",
    "    A[8] = 3\n",
    "    A[9] = 4\n",
    "    A[10] = 6\n",
    "    A[11] = 2\n",
    "the function should return 3, as explained above.\n",
    "\n",
    "Write an efficient algorithm for the following assumptions:\n",
    "\n",
    "N is an integer within the range [1..400,000];\n",
    "each element of array A is an integer within the range [0..1,000,000,000]."
   ]
  },
  {
   "cell_type": "code",
   "execution_count": null,
   "metadata": {
    "collapsed": true
   },
   "outputs": [],
   "source": [
    "pseudo:\n",
    "tasks:\n",
    "    1.find the peaks from the array of integers\n",
    "    2.count the max number of flags that can be placed and return the max number that is possible\n",
    "\n",
    "1.find the peaks from the array of integers\n",
    "current, previous, next - set three counters (but the trick is to understand to set the same variable so it would be easy to update that variable)\n",
    "start from the second position, i.e., from index 1\n",
    "you have to loop through and figure out number at current_index is both greater than that at the previous_index and that at the next_index\n",
    "return the number of peaks\n",
    "\n",
    "\n",
    "2.count the max number of flags that can be placed and return the max number that is possible\n",
    "The basic understanding is that you can only pick number of flags that are fewer than or equal to the number of peaks.\n",
    "meaning: if you have 4 peaks you can only place max 4 flags or fewer\n",
    "condition: have to place one flag at every peak point\n",
    "\n"
   ]
  },
  {
   "cell_type": "code",
   "execution_count": 35,
   "metadata": {},
   "outputs": [],
   "source": [
    "#task:1\n",
    "def solution1(A):\n",
    "    peak=[]\n",
    "    for ind in range(1, len(A)-1):\n",
    "        current=ind\n",
    "        previous=ind-1\n",
    "        next_ind=ind+1\n",
    "        if A[current] > A[previous] and A[current] > A[next_ind]:\n",
    "            peak.append(current)\n",
    "            ind+=1\n",
    "            \n",
    "    d=[]        \n",
    "    for flag in range(2, len(peak)+1):\n",
    "        print(flag)        \n",
    "        for ind_peak in range(len(peak)-1):\n",
    "            if (abs(peak[ind_peak]-peak[ind_peak+1])) >= flag:\n",
    "                break\n",
    "            else:\n",
    "                ind_peak+=1\n",
    "                \n",
    "#             if d >= flag:\n",
    "        \n",
    "    \n",
    "    \n",
    "#     return d\n",
    "                \n",
    "            \n",
    "            \n",
    "            \n",
    "            \n",
    "        "
   ]
  },
  {
   "cell_type": "code",
   "execution_count": 48,
   "metadata": {
    "collapsed": true
   },
   "outputs": [],
   "source": [
    "#task:1\n",
    "def solution1(A):\n",
    "    max_flag=[]\n",
    "    peak=[]\n",
    "    for ind in range(1, len(A)-1):\n",
    "        current=ind\n",
    "        previous=ind-1\n",
    "        next_ind=ind+1\n",
    "        if A[current] > A[previous] and A[current] > A[next_ind]:\n",
    "            peak.append(current)\n",
    "            ind+=1\n",
    "                        \n",
    "    for flag in range(len(peak), 1, -1):\n",
    "        for ind_peak in range((flag)-1, -1, -1):\n",
    "            if (abs(peak[ind_peak]-peak[ind_peak-1])) >= flag:\n",
    "                flag-=1                \n",
    "    \n",
    "            else:\n",
    "                if (abs(peak[ind_peak]-peak[ind_peak-2])) >= flag or (abs(peak[ind_peak-1]-peak[ind_peak+1])) >=flag:\n",
    "                    flag-=1\n",
    "                    ind_peak-=1\n",
    "                \n",
    "                \n",
    "        max_flag.append(flag)\n",
    "    \n",
    "    return max_flag\n",
    "                    \n",
    "            \n",
    "        \n",
    "            \n",
    "       \n",
    "        \n",
    "        \n",
    "        \n",
    "        "
   ]
  },
  {
   "cell_type": "code",
   "execution_count": 49,
   "metadata": {},
   "outputs": [
    {
     "data": {
      "text/plain": [
       "[0, 0, 0]"
      ]
     },
     "execution_count": 49,
     "metadata": {},
     "output_type": "execute_result"
    }
   ],
   "source": [
    "solution1([1,5,3,4,3,4,1,2,3,4,6,2])"
   ]
  },
  {
   "cell_type": "code",
   "execution_count": 26,
   "metadata": {},
   "outputs": [
    {
     "name": "stdout",
     "output_type": "stream",
     "text": [
      "10\n",
      "5\n",
      "3\n",
      "1\n"
     ]
    }
   ],
   "source": [
    "g=[1, 3, 5, 10]\n",
    "for i in g[::-1]:\n",
    "    print(i)"
   ]
  },
  {
   "cell_type": "code",
   "execution_count": 50,
   "metadata": {},
   "outputs": [
    {
     "name": "stdout",
     "output_type": "stream",
     "text": [
      "2\n",
      "1\n",
      "0\n"
     ]
    }
   ],
   "source": [
    "g=[1, 3, 5]\n",
    "for i in range(len(g)-1, -1, -1):\n",
    "    print(i)"
   ]
  },
  {
   "cell_type": "code",
   "execution_count": null,
   "metadata": {
    "collapsed": true
   },
   "outputs": [],
   "source": []
  }
 ],
 "metadata": {
  "kernelspec": {
   "display_name": "Python [conda root]",
   "language": "python",
   "name": "conda-root-py"
  },
  "language_info": {
   "codemirror_mode": {
    "name": "ipython",
    "version": 3
   },
   "file_extension": ".py",
   "mimetype": "text/x-python",
   "name": "python",
   "nbconvert_exporter": "python",
   "pygments_lexer": "ipython3",
   "version": "3.5.4"
  }
 },
 "nbformat": 4,
 "nbformat_minor": 2
}
